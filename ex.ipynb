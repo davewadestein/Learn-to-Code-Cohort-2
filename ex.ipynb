{
 "cells": [
  {
   "cell_type": "markdown",
   "metadata": {},
   "source": [
    "# Introduction to Programming\n",
    "# ...Using Python\n",
    "### Dave Wade-Stein (dws@developintelligence.com)\n",
    "\n",
    "<div class=\"alert alert-block alert-info\" align=\"center\">\n",
    "Please checking using Learn++!\n",
    "</div>"
   ]
  },
  {
   "cell_type": "markdown",
   "metadata": {
    "slideshow": {
     "slide_type": "subslide"
    }
   },
   "source": [
    "# Prerequisites\n",
    "* None!\n",
    "* If you already know how to program in a language such as __`Java`, `JavaScript`, `C/C++`, `C#`, `PHP`, `Perl`, `Python`__, or __`Ruby`__ (or similar), you probably shouldn't be in this class (unless you haven't written code in quite some time)\n",
    "* If your only coding experience is with __`bash`__ or __`PL/SQL`__, then you're in the right class"
   ]
  },
  {
   "cell_type": "markdown",
   "metadata": {
    "slideshow": {
     "slide_type": "subslide"
    }
   },
   "source": [
    "# To get started, let's spend a few  minutes installing Anaconda...\n",
    "  \n",
    "* Anaconda is a pre-packaged Python distribution which includes a number of useful tools\n",
    "* Python is the language we will be learning\n",
    " * Go to https://www.anaconda.com/download\n",
    "  * Download the Python 3.7 version\n",
    "  * (it's 600+ MB, but should be a fairly quick download in this environment)\n",
    " * Double-click installer\n",
    " * change install location and choose Change Install Location and Install for Me Only\n",
    " * do not install Microsoft VSCode"
   ]
  },
  {
   "cell_type": "markdown",
   "metadata": {},
   "source": [
    "<center>\n",
    "    <img src=\"images/install.png\" height=\"200\">\n",
    "    <img src=\"images/meonly.png\" height=\"200\">\n",
    "</center>\n"
   ]
  },
  {
   "cell_type": "markdown",
   "metadata": {
    "slideshow": {
     "slide_type": "subslide"
    }
   },
   "source": [
    "# About You (and Me)\n",
    "* What is your job title/what do you do here?\n",
    "* What do you want to get out of this course?"
   ]
  },
  {
   "cell_type": "markdown",
   "metadata": {
    "slideshow": {
     "slide_type": "subslide"
    }
   },
   "source": [
    "# About This Course\n",
    "* This course is obviously not going to teach the same content as that of a Computer Science curriculum, but...\n",
    " * You'll learn how to write code, i.e., how to turn a __problem statement__ into code which will _solve_ that problem"
   ]
  },
  {
   "cell_type": "markdown",
   "metadata": {
    "slideshow": {
     "slide_type": "subslide"
    }
   },
   "source": [
    "* At its essence, that is ALL coding is about–converting a problem into code which solves that problem\n",
    "* It is _not_ easy–it will be challenging!\n",
    "* It will require a change in thinking!\n",
    "* ...and it will be fun!\n"
   ]
  },
  {
   "cell_type": "markdown",
   "metadata": {
    "slideshow": {
     "slide_type": "subslide"
    }
   },
   "source": [
    "# Now download this notebook, so you can follow along...\n",
    "* Go to this URL: http://bit.ly/IntroProgSF\n",
    "  * The __zip__ file should unzip automatically\n",
    "  * It'll create a folder with a file named __`Introduction to Programming.ipynb`__ (and other files)\n",
    "  * In a moment we will launch __Jupyter__ which will bring up a webpage in your browser which is essentially a file browser..."
   ]
  },
  {
   "cell_type": "markdown",
   "metadata": {
    "slideshow": {
     "slide_type": "subslide"
    }
   },
   "source": [
    "## Launching Anaconda\n",
    "\n",
    "* navigate to your __Home__ folder\n",
    "* navigate to the __anaconda3__ folder\n",
    "* double click on __Anaconda Navigator__\n",
    "  \n",
    "* Navigate to the folder created from the zip file, and click on __`Introduction to Programming-External.ipynb`__"
   ]
  },
  {
   "cell_type": "markdown",
   "metadata": {
    "collapsed": true,
    "slideshow": {
     "slide_type": "subslide"
    }
   },
   "source": [
    "# How to get around on Jupyter:\n",
    "* Each place for you to enter text is called a _cell_\n",
    "* Usually you enter __`Python`__ code, but you can also enter text in a _markup_ language called __`Markdown`__ (that's what's going on in _this_ cell)\n",
    "* To \"run\" the code in the cell, hit __Shift-Return__ (i.e., hold down __Shift__ key, then hit __Return__)\n",
    "* Try it with the cell below..."
   ]
  },
  {
   "cell_type": "code",
   "execution_count": 5,
   "metadata": {
    "slideshow": {
     "slide_type": "-"
    }
   },
   "outputs": [
    {
     "name": "stdout",
     "output_type": "stream",
     "text": [
      "2.1\n"
     ]
    }
   ],
   "source": [
    "x = 2.1\n",
    "print(x)"
   ]
  },
  {
   "cell_type": "markdown",
   "metadata": {
    "slideshow": {
     "slide_type": "subslide"
    }
   },
   "source": [
    "* we'll work inside the Jupyter notebook and you'll be able to take it with you as a living, breathing document of your work in this class\n",
    "* the __Insert__ menu will allow you to add a cell above or below the current cell\n",
    "* the __Kernel__ menu will allow you to \"talk\" to the Python interpreter on your machine\n",
    "  * (when you type into a cell, you are \"talking\" to the web browser, and the web browser sends the text to the __`Python`__ interpreter to be \"run\")\n",
    "  * the __Kernel__ menu will allow you to _restart_ your __`Python`__ interpreter in case something goes wrong and it stops responding to you\n",
    "  "
   ]
  },
  {
   "cell_type": "markdown",
   "metadata": {
    "slideshow": {
     "slide_type": "slide"
    }
   },
   "source": [
    "# Basics of Computer Architecture"
   ]
  },
  {
   "cell_type": "markdown",
   "metadata": {
    "slideshow": {
     "slide_type": "subslide"
    }
   },
   "source": [
    "## Bits, Bytes, and Binary\n",
    "* a _bit_ (\"binary digit\") is the basic unit of information in computing (and digital communications)\n",
    "* a bit can have only one of two values, 0 or 1\n",
    "* the two values can also be interpreted as logical values (true/false, yes/no), etc.\n",
    "* a _byte_ is 8 bits, which you can think of a single character on the US keyboard\n",
    "![alt text](images/byte.png)\n",
    "\n"
   ]
  },
  {
   "cell_type": "markdown",
   "metadata": {
    "slideshow": {
     "slide_type": "subslide"
    }
   },
   "source": [
    "## Basics of Computer Architecture\n",
    "* in simplest terms, a computer consists of a __CPU__ (Central Processing Unit, or \"brain\") and memory\n",
    "* the job of the CPU is to _execute_ (or \"run\") instructions (or \"code\")\n",
    "* there are two types of instructions:\n",
    "  * those that transfer data from memory to the CPU (_load_) or vice versa (_store_)\n",
    "  * those that operate on data stored in the CPU (e.g., arithmetic operations such as addition or subtraction, or branching)\n",
    "* the CPU has a _clock speed_, which is the speed at which the CPU's internal clock _pulses_, i.e., the speed at which the CPU can do work\n",
    "  * e.g., 2.9 GHz (Gigahertz) = 2.9 billion cycles per second\n",
    "  * think of the clock speed as a drumbeat which signals when the next instruction can execute\n"
   ]
  },
  {
   "cell_type": "markdown",
   "metadata": {
    "collapsed": true,
    "slideshow": {
     "slide_type": "subslide"
    }
   },
   "source": [
    "## Block Diagram of a Simple CPU\n",
    "\n",
    "![alt text](images/block.png)\n",
    "* the ALU (arithmetic logic unit) handles operations on integers (whole numbers)\n",
    "* the FPU (floating point unit or \"math coprocessor\") handles operations on floating point (fractional) numbers\n",
    "* registers are memory \"slots\" in the CPU which hold data that the ALU or FPU manipulates"
   ]
  },
  {
   "cell_type": "markdown",
   "metadata": {
    "collapsed": true,
    "slideshow": {
     "slide_type": "subslide"
    }
   },
   "source": [
    "## Types of Computer Memory\n",
    "![alt text](images/computer-memory-pyramid.gif)\n",
    "* RAM = Random Access Memory\n",
    "  * \"short term\" memory\n",
    "  * stuff is stored in RAM while power is applied (i.e., computer is on)\n",
    "* secondary storage - hard drives, USB drives, flash drives, etc.\n",
    "  * \"long term\" memory\n",
    "  * data persists even when power is off\n",
    "* virtual memory\n",
    "  * a software trick which enables the computer to seem like it has more memory than it actually has\n",
    "  * unused blocks of memory are moved to the hard drive or other secondary storage device\n",
    "* cache\n",
    "  * super-fast memory inside the CPU used to keep data close by so the CPU doesn't have to continually move data in and out (cf. a web browser cache which holds images so that the next time you visit a website the browser doesn't have to download the image from the site, it can just grab it from the cache)"
   ]
  },
  {
   "cell_type": "markdown",
   "metadata": {
    "collapsed": true,
    "slideshow": {
     "slide_type": "subslide"
    }
   },
   "source": [
    "## How an Application is Run\n",
    "* The application (e.g., Microsoft Word) is stored on your hard drive or other secondary storage\n",
    "* When you double click on an application, the operating system (OS X, Windows, etc.) loads the application (or a portion of it) into RAM (details are OS-specific and not important for our discussion)\n"
   ]
  },
  {
   "cell_type": "markdown",
   "metadata": {
    "slideshow": {
     "slide_type": "subslide"
    }
   },
   "source": [
    "* An executable application such as Microsoft Word is a series of _instructions_ in a language that the CPU can understand (\"assembly language\" or \"machine language\")\n",
    "* The instructions are decoded and executed by the CPU\n",
    "* Note that modern computers (such as our laptops) have CPUs which are multi-core\n",
    "  * This means that the CPU itself has 2 or more _cores_, or processing units\n",
    "  * In other words, if your laptop has a dual-core CPU, it can run 2 things at once\n",
    "  * Of course, we are used to \"running\" many more applications simultaneously (e.g., web browser, mail client, Word, iTunes, etc.) but that is just an illusion–the operating system is _multi-tasking_ by running each \"runnable\" _process_ for a little while and then switching to the next one\n",
    "  * It does this fast enough that it appears that they are running simultaneously"
   ]
  },
  {
   "cell_type": "markdown",
   "metadata": {
    "slideshow": {
     "slide_type": "slide"
    }
   },
   "source": [
    "# What is Computer Programming?"
   ]
  },
  {
   "cell_type": "markdown",
   "metadata": {
    "slideshow": {
     "slide_type": "subslide"
    }
   },
   "source": [
    "## What is Computer Programming?\n",
    "* _Programming_ (or \"coding\") is a process that begins with the formulation of a (computing) problem and ends with the creation of an executable computer program\n",
    "* A (computer) _program_ is a set of statements or instructions that tells the computer what to do\n",
    "* In order to write a program, programmers often begin with an algorithm...\n",
    "\n"
   ]
  },
  {
   "cell_type": "markdown",
   "metadata": {
    "slideshow": {
     "slide_type": "subslide"
    }
   },
   "source": [
    "## What's an Algorithm?\n",
    "* An _algorithm_ is a process or set of rules to be followed in calculations or other problem-solving operations (usually, but not always by a computer)\n",
    "* For example, an algorithm for converting Fahrenheit temperatures into Celsius looks like this:\n",
    "  1. Subtract 32 from the Fahrenheit temperature\n",
    "  2. Multiply the result by 5/9\n",
    "* An algorithm for washing your hair...\n",
    "  1. Lather\n",
    "  2. Rinse\n",
    "  3. Repeat\n",
    "* An algorithm for getting a ping-pong ball out of a deep hole with a small diameter...\n",
    "  1. Fill the hole with water\n",
    "* In other words, an algorithm is like a recipe, listing each of the steps required to solve the problem"
   ]
  },
  {
   "cell_type": "markdown",
   "metadata": {
    "slideshow": {
     "slide_type": "subslide"
    }
   },
   "source": [
    "## What's Pseudocode?\n",
    "* a notation resembling a simplified programming language, often like a mixture of English and programming language constructs\n",
    "* often used to write down an algorithm in order to translate it into code\n",
    "* we will write pseudocode before we write our programs"
   ]
  },
  {
   "cell_type": "markdown",
   "metadata": {
    "slideshow": {
     "slide_type": "subslide"
    }
   },
   "source": [
    "## Debugging\n",
    "* the process of finding and fixing errors (typically called \"bugs\")\n",
    "* popularized by Grace Hopper, Ph.D., a Navy rear admiral and one of the first computer programmers\n",
    "* posthumously awarded the Presidential Medal of Freedom in 2016\n",
    "* https://en.wikipedia.org/wiki/Grace_Hopper\n"
   ]
  },
  {
   "cell_type": "markdown",
   "metadata": {
    "slideshow": {
     "slide_type": "subslide"
    }
   },
   "source": [
    "![alt text](images/H96566k.jpg)"
   ]
  },
  {
   "cell_type": "markdown",
   "metadata": {
    "slideshow": {
     "slide_type": "subslide"
    }
   },
   "source": [
    "## Syntax Errors\n",
    "* __syntax__ = the set of rules that defines the combinations of symbols that are considered to be a correctly-written (valid) program\n",
    "* a __syntax error__ is an error in syntax, i.e., a violation of the rules that define a valid program\n",
    "* syntax in programming is more like grammar in English\n",
    "  * The dog chases the cat\n",
    "  * The dogs chases the cat (_syntax error–subject/verb agreement_)\n",
    "* syntax errors are caught by the compiler or interpreter\n",
    "  * sometimes called __compile time__ errors\n",
    "    * remember that in a compiled language, compilation is a completely independent step from running the program\n",
    "  * a program can only run if it's __syntactically correct__"
   ]
  },
  {
   "cell_type": "markdown",
   "metadata": {
    "slideshow": {
     "slide_type": "subslide"
    }
   },
   "source": [
    "## Runtime Errors\n",
    "* as the name suggests, these are errors that occur when you run the program, as opposed to when you compile the program\n",
    "* with an interpreted language such as Python, the distinction between syntax and runtime errors is not as obvious–in both cases the interpreter will stop interpreting your code and will report an error\n",
    "* runtime errors are often called __exceptions__"
   ]
  },
  {
   "cell_type": "markdown",
   "metadata": {
    "slideshow": {
     "slide_type": "subslide"
    }
   },
   "source": [
    "## Semantic Errors\n",
    "* a __semantic error__ occurs when your program is syntactically correct, but you told the computer to do the wrong thing\n",
    "* for example, if you wrote a program to convert Fahrenheit to Celsius and you added 32 to the temperature instead of subtracting\n",
    "  * the program will run, but it will give you the wrong result\n",
    "  * remember that the computer will do what you tell it to do, but that doesn't mean it's what you want it to do! \n",
    "* a semantic error _may_ cause a runtime error, but usually they don't, and they can be difficult to debug"
   ]
  },
  {
   "cell_type": "markdown",
   "metadata": {
    "collapsed": true,
    "slideshow": {
     "slide_type": "slide"
    }
   },
   "source": [
    "# Introducing Python"
   ]
  },
  {
   "cell_type": "markdown",
   "metadata": {
    "slideshow": {
     "slide_type": "subslide"
    }
   },
   "source": [
    "## Introducing Python\n",
    "* Python is a _high-level_ language, meaning it is\n",
    "  * easy to get started with\n",
    "  * fun to use"
   ]
  },
  {
   "cell_type": "markdown",
   "metadata": {
    "slideshow": {
     "slide_type": "subslide"
    }
   },
   "source": [
    "* there are two ways to use Python: interactive (or \"command line\") mode, and script (or program) mode\n",
    "* we'll start in interactive mode\n",
    "* type the following into the next cell of this notebook, then hit __`SHIFT-RETURN`__ to send the text to Python\n",
    "\n",
    "   __`2 + 2`__"
   ]
  },
  {
   "cell_type": "code",
   "execution_count": 6,
   "metadata": {},
   "outputs": [
    {
     "data": {
      "text/plain": [
       "8"
      ]
     },
     "execution_count": 6,
     "metadata": {},
     "output_type": "execute_result"
    }
   ],
   "source": [
    "3 + 5"
   ]
  },
  {
   "cell_type": "markdown",
   "metadata": {
    "slideshow": {
     "slide_type": "subslide"
    }
   },
   "source": [
    "## Let's try a few other calculations using Python..."
   ]
  },
  {
   "cell_type": "code",
   "execution_count": 8,
   "metadata": {},
   "outputs": [
    {
     "data": {
      "text/plain": [
       "100.0"
      ]
     },
     "execution_count": 8,
     "metadata": {},
     "output_type": "execute_result"
    }
   ],
   "source": [
    "# the '#' symbol precedes a comment...\n",
    "# ...which is text that Python ignores\n",
    "# so let's convert Fahrenheit to Celsius...\n",
    "(212 - 32) * 5 / 9"
   ]
  },
  {
   "cell_type": "code",
   "execution_count": 9,
   "metadata": {},
   "outputs": [
    {
     "data": {
      "text/plain": [
       "1000000000000000000000000000000000000000000000000000000000000000000000000000000"
      ]
     },
     "execution_count": 9,
     "metadata": {},
     "output_type": "execute_result"
    }
   ],
   "source": [
    "# roughly the number of atoms in the universe\n",
    "10 ** 78"
   ]
  },
  {
   "cell_type": "code",
   "execution_count": 10,
   "metadata": {},
   "outputs": [
    {
     "data": {
      "text/plain": [
       "1.5"
      ]
     },
     "execution_count": 10,
     "metadata": {},
     "output_type": "execute_result"
    }
   ],
   "source": [
    "3 / 2"
   ]
  },
  {
   "cell_type": "code",
   "execution_count": 13,
   "metadata": {},
   "outputs": [
    {
     "data": {
      "text/plain": [
       "1"
      ]
     },
     "execution_count": 13,
     "metadata": {},
     "output_type": "execute_result"
    }
   ],
   "source": [
    "# // is integer division (technically it's \"floor division\", but we can\n",
    "# ignore the difference for now)\n",
    "3 // 2"
   ]
  },
  {
   "cell_type": "markdown",
   "metadata": {
    "slideshow": {
     "slide_type": "subslide"
    }
   },
   "source": [
    "## Writing Our First Program\n",
    "* when learning a new programming language, it's customary to write a _hello world_ program, that is, a program which simply prints out \"Hello, world!\"\n",
    "* type the following into the next cell and then hit __`SHIFT-RETURN`__\n",
    "\n",
    "    __`print('Hello, world!')`__"
   ]
  },
  {
   "cell_type": "code",
   "execution_count": 14,
   "metadata": {},
   "outputs": [
    {
     "name": "stdout",
     "output_type": "stream",
     "text": [
      "Hello, world!\n"
     ]
    }
   ],
   "source": [
    "print('Hello, world!')"
   ]
  },
  {
   "cell_type": "markdown",
   "metadata": {
    "slideshow": {
     "slide_type": "subslide"
    }
   },
   "source": [
    "## Analzying our First Program\n",
    "* We used Python's builtin __`print`__ _function_ to print text to the screen\n",
    "* OK...so what's a function?"
   ]
  },
  {
   "cell_type": "markdown",
   "metadata": {
    "slideshow": {
     "slide_type": "subslide"
    }
   },
   "source": [
    "## What is a Function?\n",
    "* a function is a named sequence of program statements that performs a specific task (in this case, the task was outputting to the screen)\n",
    "* a function can be used in a program wherever that particular task is needed\n",
    "* we can create our own functions, or we can rely on builtin functions as above"
   ]
  },
  {
   "cell_type": "markdown",
   "metadata": {
    "slideshow": {
     "slide_type": "subslide"
    }
   },
   "source": [
    "## What is a Function? (cont'd)\n",
    "* when you call or _invoke_ a function, you write its name, followed by the data you wish to send into the function (often called _arguments_) in parentheses...\n",
    "* if you wish to send no data to the function, you still include the parentheses\n",
    "  * e.g., __`print()`__ will print a blank line\n",
    "  * ... vs. __`print('Hello, world!')`__ as we did in our first program"
   ]
  },
  {
   "cell_type": "markdown",
   "metadata": {
    "slideshow": {
     "slide_type": "slide"
    }
   },
   "source": [
    "\n",
    "## Data, Variables, and Expressions\n",
    "* computer programs typically manipulate _data_ (or values), which can be numbers, names, or any text (and other things we can ignore for now)\n",
    "* it's useful to think of programs as taking some input and producing some output\n",
    "  * the data (or values) are provided as input to the program, and some other data are produced as output\n",
    "* _variables_ can be thought of as a \"named box\" (e.g., __`r`__, __`name`__, or __`year`__) inside the computer that holds a value\n",
    "  * the value could be a number, a name, or something else\n",
    "* an _expression_ is a combination of one or more values, variables, and operators (__`+`__, __`-`__, etc.), e.g.,\n",
    "  * __`(temp - 32) * 5 / 9`__\n",
    "  * __`3.14159 * r ** 2`__\n",
    "  * __`2 + 2`__\n",
    "  * __`1`__\n",
    " \n",
    "\n"
   ]
  },
  {
   "cell_type": "markdown",
   "metadata": {
    "slideshow": {
     "slide_type": "subslide"
    }
   },
   "source": [
    "## Values and Simple Data Types (`int`, `float`, and `str`)\n",
    "* _integers_ are whole numbers which have no fractional part\n",
    "  * e.g., __`42`__, __`-1`__, __`2017`__\n",
    "* _floats_ (short for \"floating point\") are numbers which have a decimal point and possibly  digits after the decimal point\n",
    "  * e.g, __`3.1415`__, __`212.`__, __`-1.5`__\n",
    "* _strings_ are sequences of characters surrounded by quotes\n",
    "  * e.g., __`'Hello, world!'`__\n",
    "* we can ask the Python interpreter to tell us the type of a value by using the builtin __`type`__ function"
   ]
  },
  {
   "cell_type": "code",
   "execution_count": 15,
   "metadata": {},
   "outputs": [
    {
     "data": {
      "text/plain": [
       "float"
      ]
     },
     "execution_count": 15,
     "metadata": {},
     "output_type": "execute_result"
    }
   ],
   "source": [
    "type(42.)"
   ]
  },
  {
   "cell_type": "code",
   "execution_count": 16,
   "metadata": {},
   "outputs": [
    {
     "data": {
      "text/plain": [
       "(int, float, str)"
      ]
     },
     "execution_count": 16,
     "metadata": {},
     "output_type": "execute_result"
    }
   ],
   "source": [
    "# Lines that begin with a '#' are comments.\n",
    "# They are for humans, and are ignored by the interpreter.\n",
    "#\n",
    "# Note that you can chain values together with a\n",
    "# comma, and the result will be a is a comma-\n",
    "# separated list of results in parentheses\n",
    "\n",
    "type(-1), type(212.), type('hello')"
   ]
  },
  {
   "cell_type": "markdown",
   "metadata": {
    "slideshow": {
     "slide_type": "subslide"
    }
   },
   "source": [
    "# Lab: The Builtin Function __`type()`__\n",
    "* use Python's __`type()`__ function to find out the type of the following values and expressions\n",
    "  * __`35 + 5`__\n",
    "  * __`35.0 + 5`__\n",
    "  * __`'35' + '5'`__\n",
    "  * __`5 // 3`__\n",
    "  * __`3.5.5`__\n",
    "* __Note:__ you can add more cells to the notebook in the Insert menu"
   ]
  },
  {
   "cell_type": "code",
   "execution_count": 23,
   "metadata": {
    "collapsed": true
   },
   "outputs": [
    {
     "ename": "SyntaxError",
     "evalue": "invalid syntax (<ipython-input-23-9531496db28e>, line 1)",
     "output_type": "error",
     "traceback": [
      "\u001b[0;36m  File \u001b[0;32m\"<ipython-input-23-9531496db28e>\"\u001b[0;36m, line \u001b[0;32m1\u001b[0m\n\u001b[0;31m    type(3.5.5)\u001b[0m\n\u001b[0m             ^\u001b[0m\n\u001b[0;31mSyntaxError\u001b[0m\u001b[0;31m:\u001b[0m invalid syntax\n"
     ]
    }
   ],
   "source": []
  },
  {
   "cell_type": "markdown",
   "metadata": {
    "slideshow": {
     "slide_type": "subslide"
    }
   },
   "source": [
    "## Variables\n",
    "* variables are named locations inside the computer's memory (again, think of these as named boxes into which you can put values)\n",
    "* we can put a value into a variable by using an _assignment statement_, e.g.,\n",
    "  * __`x = 1`__\n",
    "  * __`name = 'Grace Hopper'`__\n",
    "* an assignment is not a statement of equality (as we are used to from mathematics)–it's a directive to Python to put whatever is on the right-hand side of the __`=`__ into the variable on the left hand side\n",
    "* we can ask Python to print the value of a variable by simply typing it into the interpreter, or by using the built-in __`print`__ function"
   ]
  },
  {
   "cell_type": "code",
   "execution_count": 25,
   "metadata": {},
   "outputs": [
    {
     "data": {
      "text/plain": [
       "1906"
      ]
     },
     "execution_count": 25,
     "metadata": {},
     "output_type": "execute_result"
    }
   ],
   "source": [
    "x = 1906\n",
    "x"
   ]
  },
  {
   "cell_type": "code",
   "execution_count": 26,
   "metadata": {},
   "outputs": [
    {
     "data": {
      "text/plain": [
       "'Grace Hopper'"
      ]
     },
     "execution_count": 26,
     "metadata": {},
     "output_type": "execute_result"
    }
   ],
   "source": [
    "name = 'Grace Hopper'\n",
    "name"
   ]
  },
  {
   "cell_type": "code",
   "execution_count": 27,
   "metadata": {},
   "outputs": [
    {
     "name": "stdout",
     "output_type": "stream",
     "text": [
      "Grace Hopper birth year = 1906\n"
     ]
    }
   ],
   "source": [
    "# notice that when printing a string, the quotes are omitted\n",
    "print(name, 'birth year =', x)"
   ]
  },
  {
   "cell_type": "code",
   "execution_count": 31,
   "metadata": {},
   "outputs": [
    {
     "data": {
      "text/plain": [
       "1907"
      ]
     },
     "execution_count": 31,
     "metadata": {},
     "output_type": "execute_result"
    }
   ],
   "source": [
    "x + 1"
   ]
  },
  {
   "cell_type": "markdown",
   "metadata": {
    "slideshow": {
     "slide_type": "subslide"
    }
   },
   "source": [
    "## Lab: Variables\n",
    "* create a variable named __quantity__ and give it an integer value\n",
    "* verify that __quantity__ has the value you gave it\n",
    "* verify that __quantity__ is an integer\n",
    "* create a variable named __company__ and give it a value of 'mycompany'\n",
    "* verify that __company__ is a string and that its value is 'mycompany'"
   ]
  },
  {
   "cell_type": "code",
   "execution_count": null,
   "metadata": {},
   "outputs": [],
   "source": []
  },
  {
   "cell_type": "markdown",
   "metadata": {
    "slideshow": {
     "slide_type": "subslide"
    }
   },
   "source": [
    "## Variables (continued)\n",
    "* by the way, you may have heard (or may already know) that variables are not implemented as \"named boxes\" in Python\n",
    "  * TRUE–but for now, let's think of them that way–it's a perfectly fine abstraction and there's no reason to discard it\n",
    "* Python is called a _dynamically typed_ language because you do not _declare_ variables before you use them\n",
    "* in addition, a variable can hold a value of _any_ type, even if that type is not what the variable previously held, e.g.,"
   ]
  },
  {
   "cell_type": "code",
   "execution_count": 32,
   "metadata": {},
   "outputs": [
    {
     "name": "stdout",
     "output_type": "stream",
     "text": [
      "jello\n"
     ]
    }
   ],
   "source": [
    "x = 1\n",
    "y = 2\n",
    "x = 'jello'\n",
    "print(x)"
   ]
  },
  {
   "cell_type": "markdown",
   "metadata": {},
   "source": [
    "* in a _statically typed_ language (e.g., C/C++, Java), you must declare variables before using them (and in doing so you must indicate the type of data the variable will hold–__`int`__, __`float`__, etc.)\n",
    "  * ...and the only values that variable may contain are values of the declared type\n",
    "* we have no such restrictions in Python, which is both good and bad:\n",
    "  * it's good because we can just start using a variable and not have to worry about declaring it ahead of time\n",
    "  * it's bad because in a large program it can be difficult to track the type of variables, and if you accidentally overwrite a variable with a value of the wrong type, there is no way Python can complain about it–only you know what type of value is supposed to be stored in a variable\n",
    "\n"
   ]
  },
  {
   "cell_type": "markdown",
   "metadata": {
    "slideshow": {
     "slide_type": "subslide"
    }
   },
   "source": [
    "## Getting Input from the User\n",
    "* the builtin function __`input()`__ enables us to prompt the user for input\n",
    "* ...and whatever the user typed is returned by the function\n",
    "* let's try it in the next cell"
   ]
  },
  {
   "cell_type": "code",
   "execution_count": 38,
   "metadata": {},
   "outputs": [
    {
     "name": "stdout",
     "output_type": "stream",
     "text": [
      "Enter your name: Kim Kardashian\n",
      "Hello Kim Kardashian\n"
     ]
    }
   ],
   "source": [
    "name = input('Enter your name: ')\n",
    "print('Hello', name)"
   ]
  },
  {
   "cell_type": "markdown",
   "metadata": {
    "slideshow": {
     "slide_type": "subslide"
    }
   },
   "source": [
    "## Lab: Input\n",
    "* write Python code to prompt the user for a year and print out the year the user entered\n",
    "* your output will look something like this:\n",
    "\n",
    "<pre>\n",
    "<b>\n",
    "Enter a year: 2017\n",
    "You entered 2017\n",
    "</b>\n",
    "</pre>"
   ]
  },
  {
   "cell_type": "markdown",
   "metadata": {
    "slideshow": {
     "slide_type": "subslide"
    }
   },
   "source": [
    "## Variable Names and Keywords\n",
    "* variable names can be arbitrarily long\n",
    "* they can contain both letters and numbers, but they must begin with a letter\n",
    "* uppercase letters are allowed, but by convention we don’t use them (if you do use uppercase letters, remember that Python is _case sensitive_–in other words __`counter`__ and __`Counter`__ are different variables)\n",
    "* you should choose meaningful names for your variables:\n",
    "  * __`counter`__ instead of __`c`__\n",
    "  * __`cost_per_ounce`__ instead of __`cpo`__\n",
    "  * etc.\n",
    "* as you can see above, variable names can include underscores–use them to make your variable names clearer\n",
    "  * for now, do not start a variable name with an underscore"
   ]
  },
  {
   "cell_type": "code",
   "execution_count": 42,
   "metadata": {},
   "outputs": [
    {
     "ename": "SyntaxError",
     "evalue": "invalid syntax (<ipython-input-42-670d3090ea4f>, line 4)",
     "output_type": "error",
     "traceback": [
      "\u001b[0;36m  File \u001b[0;32m\"<ipython-input-42-670d3090ea4f>\"\u001b[0;36m, line \u001b[0;32m4\u001b[0m\n\u001b[0;31m    from = 'Dave'\u001b[0m\n\u001b[0m         ^\u001b[0m\n\u001b[0;31mSyntaxError\u001b[0m\u001b[0;31m:\u001b[0m invalid syntax\n"
     ]
    }
   ],
   "source": [
    "# what is the problem here?\n",
    "year = 2017\n",
    "to = 'Mary'\n",
    "from = 'Dave'"
   ]
  },
  {
   "cell_type": "markdown",
   "metadata": {},
   "source": [
    "* the problem above is that __`from`__ is a _keyword_\n",
    "* _keywords_ are words that are part of Python (or other programming languages) and cannot be used as variable names\n",
    "* if you ever get a weird error like 'invalid syntax' when it looks syntactically correct, the problem is likely that you are trying to use a keyword as a variable\n",
    "* we can get a current list of the keywords...\n"
   ]
  },
  {
   "cell_type": "code",
   "execution_count": 43,
   "metadata": {},
   "outputs": [
    {
     "name": "stdout",
     "output_type": "stream",
     "text": [
      "['False', 'None', 'True', 'and', 'as', 'assert', 'async', 'await', 'break', 'class', 'continue', 'def', 'del', 'elif', 'else', 'except', 'finally', 'for', 'from', 'global', 'if', 'import', 'in', 'is', 'lambda', 'nonlocal', 'not', 'or', 'pass', 'raise', 'return', 'try', 'while', 'with', 'yield']\n"
     ]
    }
   ],
   "source": [
    "# We will explore this 'import' syntax later.\n",
    "# For now, just think of it as a way to use some \"library\" code which comes with Python,\n",
    "# but isn't built in, so we need to import it.\n",
    "\n",
    "import keyword\n",
    "print(keyword.kwlist)"
   ]
  },
  {
   "cell_type": "markdown",
   "metadata": {
    "slideshow": {
     "slide_type": "subslide"
    }
   },
   "source": [
    "## Evaluating Expressions\n",
    "* recall that an expression is a combination of values, variables, and operators (but doesn't have to contain all of these elements)\n",
    "* if you type an expression on the command line, the interpreter evaluates it and displays the result"
   ]
  },
  {
   "cell_type": "code",
   "execution_count": 44,
   "metadata": {},
   "outputs": [
    {
     "data": {
      "text/plain": [
       "4"
      ]
     },
     "execution_count": 44,
     "metadata": {},
     "output_type": "execute_result"
    }
   ],
   "source": [
    "2 + 2"
   ]
  },
  {
   "cell_type": "markdown",
   "metadata": {},
   "source": [
    "* note that a value all by itself is considered an expression, as is a variable by itself"
   ]
  },
  {
   "cell_type": "code",
   "execution_count": 45,
   "metadata": {},
   "outputs": [
    {
     "data": {
      "text/plain": [
       "13"
      ]
     },
     "execution_count": 45,
     "metadata": {},
     "output_type": "execute_result"
    }
   ],
   "source": [
    "13"
   ]
  },
  {
   "cell_type": "code",
   "execution_count": 46,
   "metadata": {},
   "outputs": [
    {
     "data": {
      "text/plain": [
       "'Kim Kardashian'"
      ]
     },
     "execution_count": 46,
     "metadata": {},
     "output_type": "execute_result"
    }
   ],
   "source": [
    "name"
   ]
  },
  {
   "cell_type": "markdown",
   "metadata": {
    "slideshow": {
     "slide_type": "subslide"
    }
   },
   "source": [
    "* one point of confusion concerns the difference between _evaluating an expression_ and _printing a value_\n",
    "* evaluating an expression does not print anything if \n",
    "  * you're in _program_ mode\n",
    "  * or you are assigning the value of the expression to a variable"
   ]
  },
  {
   "cell_type": "code",
   "execution_count": 47,
   "metadata": {},
   "outputs": [],
   "source": [
    "# Python doesn't print anything when you \n",
    "# assign a value to a variable\n",
    "something = 'nothing'"
   ]
  },
  {
   "cell_type": "code",
   "execution_count": 48,
   "metadata": {},
   "outputs": [
    {
     "data": {
      "text/plain": [
       "'nothing'"
      ]
     },
     "execution_count": 48,
     "metadata": {},
     "output_type": "execute_result"
    }
   ],
   "source": [
    "something"
   ]
  },
  {
   "cell_type": "markdown",
   "metadata": {
    "slideshow": {
     "slide_type": "subslide"
    }
   },
   "source": [
    "* when the interpreter displays the value of an expression, it uses the same format you would use to enter its value–so in the case of strings, that means that it includes the quotes\n",
    "* but when you call the __`print()`__ function, Python displays the contents of the string without the quotes..."
   ]
  },
  {
   "cell_type": "code",
   "execution_count": 49,
   "metadata": {},
   "outputs": [
    {
     "name": "stdout",
     "output_type": "stream",
     "text": [
      "nothing\n"
     ]
    }
   ],
   "source": [
    "print(something)"
   ]
  },
  {
   "cell_type": "markdown",
   "metadata": {
    "slideshow": {
     "slide_type": "subslide"
    }
   },
   "source": [
    "## So Why Are There Two Ways to Produce Output?\n",
    "* simply typing a variable name or an expression is a convenient way to see its value, and it's something we can always do at the Python interactive prompt\n",
    "* inside a program, however, we use the __`print()`__ function to produce output"
   ]
  },
  {
   "cell_type": "markdown",
   "metadata": {
    "slideshow": {
     "slide_type": "subslide"
    }
   },
   "source": [
    "## Operators and Operands\n",
    "* operators are special symbols that represent computations such as addition (__`+`__) and multiplication (__`*`__)\n",
    "* the values that operator operates on are called operands\n",
    "* __`13 + 15`__\n",
    "* __`year - 1`__ \n",
    "* __`hours * 60 + minutes`__\n",
    "* __`minutes / 60`__ \n",
    "* __`minutes // 60`__\n",
    "* __`minutes % 60`__\n",
    "  * __`%`__ is the _modulus_ or remainder operator\n",
    "  * yields the remainder (not the quotient) when dividing its two operands\n",
    "* __`2 ** 64`__\n",
    "* __`(x + 3) * (y - 5)`__"
   ]
  },
  {
   "cell_type": "markdown",
   "metadata": {
    "collapsed": true,
    "slideshow": {
     "slide_type": "subslide"
    }
   },
   "source": [
    "## Lab: Variables, Operators, and Expressions\n",
    "* create a variable named __minutes__ and give it an initial value of __28435__\n",
    "* create a variable named __hours__ and set it equal to __minutes__ divided by __60__\n",
    "* create a variable named __days__ and set it equal to __hours__ divided by __24__\n",
    "* try both __`/`__ and __`//`__ and be sure you understand how they differ\n",
    "* consider the following expressions and then enter them into Jupyter to verify your understanding\n",
    "  * __`days * 24 + hours * 60`__\n",
    "  * __`days * (24 + hours) * 60`__\n",
    "  * __`(days * 24) + (hours * 60)`__\n"
   ]
  },
  {
   "cell_type": "markdown",
   "metadata": {
    "slideshow": {
     "slide_type": "subslide"
    }
   },
   "source": [
    "## Boolean Expressions and Logical Operators\n",
    "![alt text](images/George_Boole_color.jpg)\n",
    "* named after George Boole, an English mathematician (1813-1864)\n",
    "* he developed a system called _Boolean Algebra_, which laid the foundations for the Information Age\n",
    "  * Boolean Algebra deals with values which are either TRUE or FALSE\n",
    "  * in order to understand Boolean Algebra, we first need to consider how to get a TRUE or FALSE value\n",
    "  * a _Boolean expression_ is an expression that is either TRUE or FALSE\n",
    "    * __\"K2, the second tallest mountain in the world, is 28,251 feet above sea level.\" (TRUE)__\n",
    "    * __\"There are 31 days in April.\" (FALSE)__\n",
    "    * __`1 + 2 == 3` (TRUE)__\n",
    "    * __`2 ** 3 == 9` (FALSE)__\n",
    "  * let's try some in the Python interpreter"
   ]
  },
  {
   "cell_type": "code",
   "execution_count": 50,
   "metadata": {
    "slideshow": {
     "slide_type": "-"
    }
   },
   "outputs": [
    {
     "data": {
      "text/plain": [
       "True"
      ]
     },
     "execution_count": 50,
     "metadata": {},
     "output_type": "execute_result"
    }
   ],
   "source": [
    "2 + 3 == 5"
   ]
  },
  {
   "cell_type": "code",
   "execution_count": 51,
   "metadata": {},
   "outputs": [
    {
     "data": {
      "text/plain": [
       "False"
      ]
     },
     "execution_count": 51,
     "metadata": {},
     "output_type": "execute_result"
    }
   ],
   "source": [
    "x = 2 # assignment statement\n",
    "x == 3 # note the difference between = (assignment) and == (testing for equality)"
   ]
  },
  {
   "cell_type": "code",
   "execution_count": 52,
   "metadata": {},
   "outputs": [
    {
     "data": {
      "text/plain": [
       "True"
      ]
     },
     "execution_count": 52,
     "metadata": {},
     "output_type": "execute_result"
    }
   ],
   "source": [
    "x != 3"
   ]
  },
  {
   "cell_type": "markdown",
   "metadata": {},
   "source": [
    "* True and False are special values that are built-in to Python\n",
    "* the other operators are:\n",
    "  * __`>, >=`__\n",
    "  * __`<, <=`__\n",
    "  * and __`==`__, __`!=`__, as we've seen"
   ]
  },
  {
   "cell_type": "markdown",
   "metadata": {
    "slideshow": {
     "slide_type": "subslide"
    }
   },
   "source": [
    "## Lab: Boolean Expressions\n",
    "* write a Boolean expression to determine whether the variable __xyz__ is greater than 100 (you will have to define the variable first)\n",
    "* write a Boolean expression to determine whether the variable __company__ is equal to the string 'salesforce'"
   ]
  },
  {
   "cell_type": "code",
   "execution_count": null,
   "metadata": {},
   "outputs": [],
   "source": []
  },
  {
   "cell_type": "markdown",
   "metadata": {
    "slideshow": {
     "slide_type": "subslide"
    }
   },
   "source": [
    "## Logical Operators\n",
    "* there are three: __`and`__, __`or`__, __`not`__\n",
    "* they mean roughly the same thing as they mean in English:\n",
    "  * __if you finish your homework AND the temperature is above freezing, you can play in the yard__\n",
    "  * __if it snows OR the temperature is lower than 20ºF, school will be canceled__\n",
    "  * __if it is NOT past 9pm, the library should be open__\n",
    "  * __`x > 0 and x < 10`__ means __x is greater than 0 _and_ less than 10__\n",
    "  * __`x > 0 or y < 5`__ means __either x is greater than 0 _or_ y is less than 5 (or both)__"
   ]
  },
  {
   "cell_type": "markdown",
   "metadata": {
    "slideshow": {
     "slide_type": "subslide"
    }
   },
   "source": [
    "## Boolean Algebra\n",
    "* let's see how George Boole's algebra works in Python\n",
    "* to do this, we can make _truth tables_ which show how the logical operators interact with True and False values..."
   ]
  },
  {
   "cell_type": "code",
   "execution_count": 53,
   "metadata": {
    "slideshow": {
     "slide_type": "-"
    }
   },
   "outputs": [
    {
     "name": "stdout",
     "output_type": "stream",
     "text": [
      "False\n",
      "False\n",
      "False\n",
      "True\n"
     ]
    }
   ],
   "source": [
    "# and\n",
    "print(False and False)\n",
    "print(False and True)\n",
    "print(True and False)\n",
    "print(True and True)"
   ]
  },
  {
   "cell_type": "code",
   "execution_count": 54,
   "metadata": {
    "slideshow": {
     "slide_type": "subslide"
    }
   },
   "outputs": [
    {
     "name": "stdout",
     "output_type": "stream",
     "text": [
      "False\n",
      "True\n",
      "True\n",
      "True\n"
     ]
    }
   ],
   "source": [
    "# or\n",
    "print(False or False)\n",
    "print(False or True)\n",
    "print(True or False)\n",
    "print(True or True)"
   ]
  },
  {
   "cell_type": "code",
   "execution_count": 55,
   "metadata": {
    "slideshow": {
     "slide_type": "subslide"
    }
   },
   "outputs": [
    {
     "name": "stdout",
     "output_type": "stream",
     "text": [
      "True\n",
      "False\n"
     ]
    }
   ],
   "source": [
    "# not\n",
    "print(not False)\n",
    "print(not True)"
   ]
  },
  {
   "cell_type": "code",
   "execution_count": 56,
   "metadata": {},
   "outputs": [
    {
     "name": "stdout",
     "output_type": "stream",
     "text": [
      "y = 4\n"
     ]
    },
    {
     "data": {
      "text/plain": [
       "True"
      ]
     },
     "execution_count": 56,
     "metadata": {},
     "output_type": "execute_result"
    }
   ],
   "source": [
    "# strictly speaking, the operands of logical operators\n",
    "# should be boolean expressions\n",
    "# ...but Python isn't strict about it–any\n",
    "# non-zero value is considered \"True\" in Python\n",
    "y = 4\n",
    "print('y =', y)\n",
    "y and True"
   ]
  },
  {
   "cell_type": "code",
   "execution_count": 57,
   "metadata": {},
   "outputs": [
    {
     "data": {
      "text/plain": [
       "0"
      ]
     },
     "execution_count": 57,
     "metadata": {},
     "output_type": "execute_result"
    }
   ],
   "source": [
    "# and 0 is considered False\n",
    "y = 0\n",
    "y and True"
   ]
  },
  {
   "cell_type": "code",
   "execution_count": 58,
   "metadata": {},
   "outputs": [
    {
     "data": {
      "text/plain": [
       "True"
      ]
     },
     "execution_count": 58,
     "metadata": {},
     "output_type": "execute_result"
    }
   ],
   "source": [
    "# ...as is an empty string\n",
    "empty = ''\n",
    "not empty"
   ]
  },
  {
   "cell_type": "markdown",
   "metadata": {
    "collapsed": true,
    "slideshow": {
     "slide_type": "subslide"
    }
   },
   "source": [
    "## Lab: Boolean Algebra\n",
    "* write a Boolean expression which determines whether __year__ is equal to 2017 and __xyz__ is less than 10"
   ]
  },
  {
   "cell_type": "markdown",
   "metadata": {
    "slideshow": {
     "slide_type": "subslide"
    }
   },
   "source": [
    "## Boolean Variables in Python\n",
    "* at this point, it probably won't surprise you to find out that Python also has Boolean variables, i.e., variables that contain the special value True or False\n",
    "* we will see how to use Boolean variables later, but for now we will demonstrate..."
   ]
  },
  {
   "cell_type": "code",
   "execution_count": 61,
   "metadata": {},
   "outputs": [
    {
     "data": {
      "text/plain": [
       "bool"
      ]
     },
     "execution_count": 61,
     "metadata": {},
     "output_type": "execute_result"
    }
   ],
   "source": [
    "ok = True\n",
    "type(ok)"
   ]
  },
  {
   "cell_type": "code",
   "execution_count": 64,
   "metadata": {},
   "outputs": [
    {
     "data": {
      "text/plain": [
       "True"
      ]
     },
     "execution_count": 64,
     "metadata": {},
     "output_type": "execute_result"
    }
   ],
   "source": [
    "even = 42 % 2 == 0 # Is 42 even? In other words is there no remainder when dividing 42 by 2?\n",
    "even"
   ]
  },
  {
   "cell_type": "markdown",
   "metadata": {
    "slideshow": {
     "slide_type": "subslide"
    }
   },
   "source": [
    "## Lab: Boolean Variables\n",
    "* create a Boolean variable which determines whether the variable __company__ is equal to 'salesforce'"
   ]
  },
  {
   "cell_type": "markdown",
   "metadata": {
    "slideshow": {
     "slide_type": "subslide"
    }
   },
   "source": [
    "## Type Conversion Functions\n",
    "* Python has built-in type conversion functions that let you convert a value of one type to another (within reason)\n",
    "* __`int(x)`__ will convert __`x`__ to an integer\n",
    "  * only works if __`x`__ can be converted to an integer\n",
    "* __`float(x)`__ will convert __`x`__ to a floating point number\n",
    "  * only works if __`x`__ can be converted to a float\n",
    "* __`str(x)`__ will convert __`x`__ to a string\n",
    "  * always works\n",
    "* __`bool(x)`__ will convert __`x`__ to a bool\n",
    "  * always works"
   ]
  },
  {
   "cell_type": "code",
   "execution_count": 65,
   "metadata": {},
   "outputs": [
    {
     "data": {
      "text/plain": [
       "35"
      ]
     },
     "execution_count": 65,
     "metadata": {},
     "output_type": "execute_result"
    }
   ],
   "source": [
    "int(35.5)"
   ]
  },
  {
   "cell_type": "code",
   "execution_count": 66,
   "metadata": {},
   "outputs": [
    {
     "ename": "ValueError",
     "evalue": "invalid literal for int() with base 10: '35.5'",
     "output_type": "error",
     "traceback": [
      "\u001b[0;31m---------------------------------------------------------------------------\u001b[0m",
      "\u001b[0;31mValueError\u001b[0m                                Traceback (most recent call last)",
      "\u001b[0;32m<ipython-input-66-cd72d73e6c86>\u001b[0m in \u001b[0;36m<module>\u001b[0;34m()\u001b[0m\n\u001b[0;32m----> 1\u001b[0;31m \u001b[0mint\u001b[0m\u001b[0;34m(\u001b[0m\u001b[0;34m'35.5'\u001b[0m\u001b[0;34m)\u001b[0m\u001b[0;34m\u001b[0m\u001b[0m\n\u001b[0m",
      "\u001b[0;31mValueError\u001b[0m: invalid literal for int() with base 10: '35.5'"
     ]
    }
   ],
   "source": [
    "int('35.5')"
   ]
  },
  {
   "cell_type": "code",
   "execution_count": 67,
   "metadata": {},
   "outputs": [
    {
     "data": {
      "text/plain": [
       "35"
      ]
     },
     "execution_count": 67,
     "metadata": {},
     "output_type": "execute_result"
    }
   ],
   "source": [
    "int(float('35.5'))"
   ]
  },
  {
   "cell_type": "code",
   "execution_count": 68,
   "metadata": {},
   "outputs": [
    {
     "data": {
      "text/plain": [
       "1.0"
      ]
     },
     "execution_count": 68,
     "metadata": {},
     "output_type": "execute_result"
    }
   ],
   "source": [
    "float(1)"
   ]
  },
  {
   "cell_type": "code",
   "execution_count": 69,
   "metadata": {
    "scrolled": true
   },
   "outputs": [
    {
     "data": {
      "text/plain": [
       "'3.14159'"
      ]
     },
     "execution_count": 69,
     "metadata": {},
     "output_type": "execute_result"
    }
   ],
   "source": [
    "str(3.14159)"
   ]
  },
  {
   "cell_type": "code",
   "execution_count": 70,
   "metadata": {},
   "outputs": [
    {
     "data": {
      "text/plain": [
       "(False, True, False)"
      ]
     },
     "execution_count": 70,
     "metadata": {},
     "output_type": "execute_result"
    }
   ],
   "source": [
    "bool(''), bool(34), bool(not int(True))"
   ]
  },
  {
   "cell_type": "markdown",
   "metadata": {
    "slideshow": {
     "slide_type": "subslide"
    }
   },
   "source": [
    "## Lab: Type Conversion\n",
    "* write Python code to prompt the user to enter a year\n",
    "* ...then reads input from the user\n",
    "* ...then converts what was read into an integer\n",
    "* print out the final result and verify that it's an integer\n",
    "* your output should look something like this:\n",
    "\n",
    "<pre><b>\n",
    "Enter a year: 2017\n",
    "The year you entered was 2017.\n",
    "\n",
    "&lt;class 'int'>\n",
    "</b></pre>"
   ]
  },
  {
   "cell_type": "markdown",
   "metadata": {
    "slideshow": {
     "slide_type": "subslide"
    }
   },
   "source": [
    "## String Operations\n",
    "* you can't do arithmetic on strings, even if the value inside the string looks like a number...\n",
    "* so, __`'2' + '4'`__ is not __`'6'`__ in Python\n",
    "* but the + and * operators work on strings...\n",
    "  * __`+`__ = _concatenation_ (__`'good' + 'bye'`__ yields __`'goodbye'`__)\n",
    "  * __`*`__ = replication (__`'good' * 4`__ yields __`'goodgoodgoodgood'`__)"
   ]
  },
  {
   "cell_type": "code",
   "execution_count": 75,
   "metadata": {},
   "outputs": [
    {
     "name": "stdout",
     "output_type": "stream",
     "text": [
      "Name? Joe\n"
     ]
    },
    {
     "data": {
      "text/plain": [
       "'Hello Joe, how are you?'"
      ]
     },
     "execution_count": 75,
     "metadata": {},
     "output_type": "execute_result"
    }
   ],
   "source": [
    "name = input('Name? ')\n",
    "message = 'Hello ' + name + ', how are you?'\n",
    "message"
   ]
  },
  {
   "cell_type": "code",
   "execution_count": 72,
   "metadata": {},
   "outputs": [
    {
     "name": "stdout",
     "output_type": "stream",
     "text": [
      "1234567890123456789012345678901234567890\n",
      "----------------------------------------\n"
     ]
    }
   ],
   "source": [
    "ruler = '1234567890' * 4\n",
    "line = '-' * 40\n",
    "print(ruler)\n",
    "print(line)"
   ]
  },
  {
   "cell_type": "markdown",
   "metadata": {
    "slideshow": {
     "slide_type": "subslide"
    }
   },
   "source": [
    "## Lab: Strings\n",
    "* read in two separate strings from the user\n",
    "* create a new string which consists of the second string followed by a space, followed by the first string\n",
    "* e.g, \"hello\" and \"there\" would become \"there hello\""
   ]
  },
  {
   "cell_type": "markdown",
   "metadata": {
    "slideshow": {
     "slide_type": "subslide"
    }
   },
   "source": [
    "## Indexing Strings\n",
    "* we can access the individual characters of a string using brackets–__`[]`__\n",
    "* the first character of a string is at index 0 (all counting in computer science begins with 0)"
   ]
  },
  {
   "cell_type": "code",
   "execution_count": 76,
   "metadata": {
    "slideshow": {
     "slide_type": "-"
    }
   },
   "outputs": [
    {
     "name": "stdout",
     "output_type": "stream",
     "text": [
      "Enter your name: Dave\n",
      "The first character of Dave is D\n"
     ]
    }
   ],
   "source": [
    "name = input('Enter your name: ')\n",
    "print('The first character of', name, 'is', name[0])"
   ]
  },
  {
   "cell_type": "markdown",
   "metadata": {},
   "source": [
    "## Lab: Indexing Strings\n",
    "* prompt the user and read a string\n",
    "* prompt the user for an index\n",
    "*  use the index to print out the character at that offset (e.g., if user enters '3', you would print out the [3] character of the string\n",
    "* what happens if you hit return (i.e., enter an \"empty string\")?\n",
    "* what happens if you set the zeroth character of the string you read to 'x'"
   ]
  },
  {
   "cell_type": "markdown",
   "metadata": {
    "slideshow": {
     "slide_type": "subslide"
    }
   },
   "source": [
    "## Composition\n",
    "* one of the most useful features of Python (and other programming languages) is their ability to take small building blocks and compose them\n",
    "* e.g., we know how to add numbers and we know how to print–we already know we can do both at the same time, which is what we mean by composition:\n",
    "  * __`print(x + 17)`__\n",
    "* we can get more complex, e.g.,\n",
    "  * __`seconds = hours * 3600 + minutes * 60`__\n"
   ]
  },
  {
   "cell_type": "code",
   "execution_count": 77,
   "metadata": {},
   "outputs": [
    {
     "name": "stdout",
     "output_type": "stream",
     "text": [
      "  1           0 LOAD_CONST               0 (3)\n",
      "              2 STORE_NAME               0 (x)\n",
      "              4 LOAD_NAME                1 (print)\n",
      "              6 LOAD_NAME                0 (x)\n",
      "              8 LOAD_CONST               1 (17)\n",
      "             10 BINARY_ADD\n",
      "             12 CALL_FUNCTION            1\n",
      "             14 POP_TOP\n",
      "             16 LOAD_CONST               2 (None)\n",
      "             18 RETURN_VALUE\n"
     ]
    }
   ],
   "source": [
    "# The dis(assembly) module will show us something interesting...\n",
    "# the bytecode into which Python is translated\n",
    "import dis\n",
    "dis.dis('x = 3; print(x + 17)')"
   ]
  },
  {
   "cell_type": "markdown",
   "metadata": {
    "slideshow": {
     "slide_type": "slide"
    }
   },
   "source": [
    "# Statements"
   ]
  },
  {
   "cell_type": "markdown",
   "metadata": {
    "slideshow": {
     "slide_type": "subslide"
    }
   },
   "source": [
    "## Conditional Execution\n",
    "* in order to write useful programs, we typically need the ability to check some condition and change the behavior of the program accordingly\n",
    "* conditional statements give us this ability\n",
    "* the simplest form is the if statement..."
   ]
  },
  {
   "cell_type": "code",
   "execution_count": 84,
   "metadata": {},
   "outputs": [
    {
     "name": "stdout",
     "output_type": "stream",
     "text": [
      "Enter a year: 9090\n",
      "blah\n",
      "indented statement\n",
      "something\n",
      "another\n",
      "after the if statement\n"
     ]
    }
   ],
   "source": [
    "year = int(input('Enter a year: '))\n",
    "# convert from string to integer\n",
    "\n",
    "if year > 2000:\n",
    "    print('blah', 'indented statement', 'something', sep='\\n')\n",
    "    print('another')\n",
    "    \n",
    "print('after the if statement')"
   ]
  },
  {
   "cell_type": "markdown",
   "metadata": {},
   "source": [
    "* the boolean expression after the __`if`__ statement is called the condition\n",
    "* if the condition is true, then the indented statement (or statements) gets executed\n",
    "* if the condition is false, then nothing happens\n",
    "* the __`if`__ statement is made up of a header and a block of statements, like so\n",
    "    \n",
    "<img src=\"images/compound.png\" alt=\"Drawing\" style=\"width: 250px;\"/>\n",
    "\n",
    "* the header begins on a new line and ends with a colon (:)\n",
    "* the indented statements that follow are called a block\n",
    "* the first unindented statement marks the end of the block"
   ]
  },
  {
   "cell_type": "markdown",
   "metadata": {
    "slideshow": {
     "slide_type": "subslide"
    }
   },
   "source": [
    "## Python Indentation\n",
    "* indentation is one of the bugbagoos of Python\n",
    "* as we saw with the __`if`__ statement, we must introduce a new block with a colon\n",
    "  * ...and then indent all of the statements in the block\n",
    "  * all statements in the block must be indented the same amount\n",
    "  * don't use TABs, use spaces (Python will complain if you mix TABs and spaces)\n",
    "  * Python recommends 4 spaces per level of indentation"
   ]
  },
  {
   "cell_type": "markdown",
   "metadata": {
    "slideshow": {
     "slide_type": "subslide"
    }
   },
   "source": [
    "## Chained Conditionals\n",
    "* sometimes there are more than two possibilities and we need more than two branches\n",
    "* one way to express a computation like that is a chained conditional..."
   ]
  },
  {
   "cell_type": "code",
   "execution_count": 87,
   "metadata": {},
   "outputs": [
    {
     "name": "stdout",
     "output_type": "stream",
     "text": [
      "5 and 5 are equal\n"
     ]
    }
   ],
   "source": [
    "x, y = 5, 9 # in Python we can assign multiple values to multiple\n",
    "            # variables, but only do it this way if the variables\n",
    "            # are related\n",
    "\n",
    "if x < y:\n",
    "    print(x, \"is less than\", y)\n",
    "elif x > y:\n",
    "    print(x, \"is greater than\", y)\n",
    "else:\n",
    "    print(x, \"and\", y, \"are equal\")"
   ]
  },
  {
   "cell_type": "markdown",
   "metadata": {},
   "source": [
    "* __`elif`__ means _\"else if\"_, and is optional\n",
    "* there is no limit to the number of __`elif`__ statements\n",
    "* if there is an __`else`__, it has to be the last branch"
   ]
  },
  {
   "cell_type": "markdown",
   "metadata": {
    "slideshow": {
     "slide_type": "subslide"
    }
   },
   "source": [
    "## Nested Conditionals\n",
    "* one conditional can be nested within another\n",
    "* therefore, we could have written the previous __`if`__ statement as follows:\n"
   ]
  },
  {
   "cell_type": "code",
   "execution_count": 91,
   "metadata": {},
   "outputs": [
    {
     "name": "stdout",
     "output_type": "stream",
     "text": [
      "15 is greater than 14\n"
     ]
    }
   ],
   "source": [
    "x = 15\n",
    "y = 14\n",
    "if x == y:\n",
    "    print (x, \"and\", y, \"are equal\")\n",
    "else:\n",
    "    if x < y:\n",
    "        print(x, \"is less than\", y)\n",
    "    else:\n",
    "        print(x, \"is greater than\", y)"
   ]
  },
  {
   "cell_type": "markdown",
   "metadata": {
    "slideshow": {
     "slide_type": "subslide"
    }
   },
   "source": [
    "## Lab: Odd-Even Program (our first program that does something)\n",
    "1. prompt the user to enter a number\n",
    "2. read input from the user\n",
    "3. convert the input to an integer\n",
    "4. tell the user whether the number entered was odd or even\n"
   ]
  },
  {
   "cell_type": "markdown",
   "metadata": {},
   "source": [
    "## Lab: Leap Year Program\n",
    "1. prompt the user to enter a year\n",
    "2. read input from the user\n",
    "3. convert the input to an integer\n",
    "4. tell the user whether the year entered is a leap year or not\n",
    "  * a year is a leap year if\n",
    "  1. it's divisible by 4 AND\n",
    "  2. it's not divisible by 100 (i.e., 1900 was not a leap year) UNLESS\n",
    "  3. it's also divisible by 400 (i.e., 2000 was a leap year)"
   ]
  },
  {
   "cell_type": "markdown",
   "metadata": {
    "slideshow": {
     "slide_type": "slide"
    }
   },
   "source": [
    "# The Art of Programming"
   ]
  },
  {
   "cell_type": "markdown",
   "metadata": {
    "slideshow": {
     "slide_type": "subslide"
    }
   },
   "source": [
    "## The Art of Programming\n",
    "* first off, what do we mean by programming?\n",
    "  * understanding the problem at hand\n",
    "  * formulating a solution to that problem as a series of steps\n",
    "  * converting those steps into code\n",
    "  * testing your code\n",
    "  * fixing bugs\n",
    "* next, what do we mean by art?\n",
    "  * coding is a procedure we follow, and as such, we could argue there isn't much 'art' involved\n",
    "  * however, experienced programmers often use their intuition and deep understanding of problems and coding practices to \"finesse\" a solution\n",
    "  * in a sense they can \"see\" the problem clearer, and therefore generate a solution quicker and often better than those who are inexperienced\n",
    "* so how do new programmers get to that point?\n",
    "  * just like the old joke about Carnegie Hall–practice, practice, practice!"
   ]
  },
  {
   "cell_type": "markdown",
   "metadata": {
    "slideshow": {
     "slide_type": "subslide"
    }
   },
   "source": [
    "## Converting a Problem Into Code\n",
    "1. be sure you understand the problem (do not start coding yet)\n",
    "2. write down the sequence of steps you use to solve that problem \"in real life\" (do not start coding yet)\n",
    "3. convert each step into the code to perform it\n",
    "\n",
    "__DO NOT WRITE CODE UNTIL YOU KNOW WHAT YOU ARE WRITING AND WHY YOU ARE WRITING IT!__"
   ]
  },
  {
   "cell_type": "markdown",
   "metadata": {},
   "source": [
    "## Mental Models\n",
    "* a _mental model_ is an explanation of someone's thought process about how something works in the real world\n",
    "* mental models can help generate an approach to solving problems\n",
    "* Kenneth Craik suggested in 1943 that the mind constructs \"small-scale models\" of reality that it uses to anticipate events\n",
    "* it is my belief that most bugs in our programs occur because of an incorrect mental model\n",
    "  * if our understanding (or modeling) of a problem is flawed, then necessarily our code will be flawed\n",
    "* when code doesn't work, we may want to pay attention to our mental model and see if we can find flaws in it\n",
    "  * i.e., is there assumption we are making which is untrue?"
   ]
  },
  {
   "cell_type": "markdown",
   "metadata": {
    "slideshow": {
     "slide_type": "slide"
    }
   },
   "source": [
    "## Iteration\n",
    "* to _iterate_ is to _repeat_ something (in the case of programming, we will be repeating some code)"
   ]
  },
  {
   "cell_type": "markdown",
   "metadata": {
    "slideshow": {
     "slide_type": "subslide"
    }
   },
   "source": [
    "## The __`for`__ Loop\n",
    "* we use a __`for`__ loop when we want to repeat something a _known_ number of times\n",
    "* real world example–_drive for __5 blocks__ and then turn right_\n",
    "* there are two types of __`for`__ loops in Python\n",
    "  * looping through a numeric range\n",
    "  * looping through a _container_\n",
    "    * containers are Python data types which _contain_ things (e.g., a string contains characters)\n",
    "* syntax\n",
    "\n",
    "   <pre>\n",
    "      <b>\n",
    "      for variable in sequence:\n",
    "          statement(s)\n",
    "      </b>\n",
    "   </pre>\n",
    "* you choose the name of the _variable_, which should be something that makes sense\n",
    "<img src=\"images/python_for_loop.jpg\" alt=\"flow\" style=\"width: 350px;\"/>"
   ]
  },
  {
   "cell_type": "code",
   "execution_count": 2,
   "metadata": {},
   "outputs": [
    {
     "name": "stdout",
     "output_type": "stream",
     "text": [
      "I N T R O   P R O G R A M M I N G "
     ]
    }
   ],
   "source": [
    "# loop through a container (in this case,\n",
    "# the container is a string)\n",
    "\n",
    "for letter in 'INTRO PROGRAMMING':\n",
    "    print(letter, end=' ')"
   ]
  },
  {
   "cell_type": "code",
   "execution_count": 8,
   "metadata": {},
   "outputs": [
    {
     "name": "stdout",
     "output_type": "stream",
     "text": [
      "1 2 3 4 5 6 7 8 9 "
     ]
    }
   ],
   "source": [
    "# for reasons that are not important right now, a Python range always\n",
    "# excludes the last number ...so range(1, 10) means 1, 2, ..., 9\n",
    "\n",
    "for number in range(1, 10):\n",
    "    print(number, end= ' ')"
   ]
  },
  {
   "cell_type": "markdown",
   "metadata": {},
   "source": [
    "## Lab: for loops\n",
    "* write a Python program which asks the user for a string and then outputs the same string with each character duplicated\n",
    "  * e.g., if the user enters __salesforce__, your program will output __ssaalleessffoorrccee__\n",
    "* write a Python program to compute __`n! (= n * n - 1 * n - 2 ... * 1)`__\n",
    "  * so if the user enters a 5, your program should compute __`5 * 4 * 3 * 2 * 1 (120)`__"
   ]
  },
  {
   "cell_type": "code",
   "execution_count": null,
   "metadata": {
    "scrolled": true
   },
   "outputs": [],
   "source": []
  },
  {
   "cell_type": "markdown",
   "metadata": {
    "slideshow": {
     "slide_type": "subslide"
    }
   },
   "source": [
    "## The __`while`__ Loop\n",
    "* we use a __`while`__ loop when we want to repeat something an _unknown_ number of times\n",
    "* real world example–_keep driving until you get to a traffic light, then turn right_\n",
    "* a __`while`__ loop checks a boolean condition and keeps going until the condition becomes false \n",
    "* much less common than __`for`__ loops\n",
    "* syntax\n",
    "\n",
    "   <pre>\n",
    "      <b>\n",
    "      while condition:\n",
    "          statement(s)\n",
    "      </b>\n",
    "   </pre>\n",
    "        \n",
    "<img src=\"images/python_while_loop.jpg\" alt=\"flow\" style=\"width: 350px;\"/>\n"
   ]
  },
  {
   "cell_type": "code",
   "execution_count": 14,
   "metadata": {},
   "outputs": [
    {
     "name": "stdout",
     "output_type": "stream",
     "text": [
      "Enter a number between 1 and 10: -1\n",
      "Enter a number between 1 and 10: -3\n",
      "Enter a number between 1 and 10: 4\n"
     ]
    }
   ],
   "source": [
    "num = 0\n",
    "while num < 1 or num > 10:\n",
    "    num = int(input(\"Enter a number between 1 and 10: \"))"
   ]
  },
  {
   "cell_type": "markdown",
   "metadata": {},
   "source": [
    "## Lab: while loops\n",
    "1. write Python code which prompts the user to enter a 5-letter string\n",
    "  * it then reads input from the user and stops if the user did in fact enter a 5-letter string\n",
    "  * otherwise, it prints an error message, and once again asks the user to enter a 5-letter string\n",
    "2. write a Python program which picks a random number between 1 and 100 and asks the user to guess it\n",
    "  * if the user's guess is too high, say it's too high\n",
    "  * if the user's guess is too low, say it's too low\n",
    "  * if the user's guess is correct, say it's correct and stop looping\n",
    "  * you can use the code below to get a random number\n",
    "  \n",
    "  <pre><b>\n",
    "  import random\n",
    "  number = random.randint(1, 100)\n",
    "  </b></pre>\n",
    "__EXTRA:__\n",
    " * keep track of number of guesses, and when they get it right, tell them how many guesses it took\n",
    "  * put a limit on the number of guesses, say 10, and stop when they hit the limit (or get it right)"
   ]
  },
  {
   "cell_type": "markdown",
   "metadata": {
    "slideshow": {
     "slide_type": "subslide"
    }
   },
   "source": [
    "## Syntax Common to Both __`for`__ and __`while`__ Loops\n",
    "* the __`break`__ statement is used to immediately exit a loop\n",
    "* the __`continue`__ statement is used to skip the rest of the loop and continue with the next iteration\n",
    "* the __`else`__ clause is executed only if the loop finished _normally_–meaning it did not finish as a result of a __`break`__ statement\n",
    "  * __`else`__ is a terrible name and we just have to live with it\n",
    "* let's see examples of each of these..."
   ]
  },
  {
   "cell_type": "code",
   "execution_count": 16,
   "metadata": {},
   "outputs": [
    {
     "name": "stdout",
     "output_type": "stream",
     "text": [
      "Enter low number: 38\n",
      "Enter high number: 39\n"
     ]
    }
   ],
   "source": [
    "# 'break' example: find the first multiple of 37 between two numbers\n",
    "\n",
    "low = int(input('Enter low number: '))\n",
    "high = int(input('Enter high number: '))\n",
    "\n",
    "for num in range(low, high + 1):\n",
    "    if num % 37 == 0: # num is divisible by 37\n",
    "        print('First multiple of 37 between', low,\n",
    "              'and', high, 'is', num)\n",
    "        break # quit the loop right now"
   ]
  },
  {
   "cell_type": "code",
   "execution_count": 17,
   "metadata": {},
   "outputs": [
    {
     "name": "stdout",
     "output_type": "stream",
     "text": [
      "2 is even\n",
      "3 is odd\n",
      "4 is even\n",
      "5 is odd\n",
      "6 is even\n",
      "7 is odd\n",
      "8 is even\n",
      "9 is odd\n",
      "10 is even\n"
     ]
    }
   ],
   "source": [
    "# 'continue' example: print out whether numbers\n",
    "# are even or odd\n",
    "\n",
    "for num in range(2, 11): # 2..10\n",
    "    if num % 2 == 0: # if num is divisible by 2(hence even)\n",
    "        print(num, 'is even')\n",
    "        continue # skip next line and iterate again\n",
    "    print(num, 'is odd')"
   ]
  },
  {
   "cell_type": "code",
   "execution_count": 23,
   "metadata": {},
   "outputs": [
    {
     "name": "stdout",
     "output_type": "stream",
     "text": [
      "Try1: Enter a 5-letter word: hi\n",
      "Try2: Enter a 5-letter word: hi\n",
      "Try3: Enter a 5-letter word: hi\n",
      "Try4: Enter a 5-letter word: hi\n",
      "Try5: Enter a 5-letter word: hi\n",
      "Why can't you follow directions?\n"
     ]
    }
   ],
   "source": [
    "# else example\n",
    "\n",
    "for num in range(1, 6): # 1..5\n",
    "    word = input('Enter a 5-letter word: ')\n",
    "    if len(word) == 5:\n",
    "        break\n",
    "# this is only executed if we didn't 'break' out of the loop\n",
    "else: # did we terminate normally (i.e, not break?)\n",
    "    print(\"Why can't you follow directions?\")\n"
   ]
  },
  {
   "cell_type": "markdown",
   "metadata": {},
   "source": [
    "## Lab: break/continue/else\n",
    "* modify your guessing game to add the option for the user to give up by typing a 0 as his or her guess:\n",
    "    * if the user enters a 0, exit the loop\n",
    "    * after the loop, we need to determine   \n",
    "    whether the user gave up or guessed the   \n",
    "    number correctly\n",
    "    * if gave up, print 'sorry you\n",
    "     gave up'\n",
    "    * if correct, print 'got it!'\n",
    "</pre>\n"
   ]
  },
  {
   "cell_type": "markdown",
   "metadata": {
    "slideshow": {
     "slide_type": "subslide"
    }
   },
   "source": [
    "## Post-Test Loops\n",
    "* occasionally we want a loop where the test is performed at the end of the loop\n",
    "* some languages have a special _do-while_ loop for this case, but that doesn't exist in Python\n",
    "* we can simulate a _do-while_ loop in Python as follows:\n",
    "\n",
    " <pre>\n",
    "      <b>\n",
    "      while True:\n",
    "          statement(s)\n",
    "          if condition is false:\n",
    "              break\n",
    "      </b>\n",
    "   </pre>"
   ]
  },
  {
   "cell_type": "code",
   "execution_count": 24,
   "metadata": {},
   "outputs": [
    {
     "name": "stdout",
     "output_type": "stream",
     "text": [
      "Enter a number: 5\n",
      "Enter a number: 4\n",
      "Enter a number: 2\n",
      "Enter a number: 3\n",
      "Enter a number: 1\n",
      "Enter a number: 0\n",
      "15\n"
     ]
    }
   ],
   "source": [
    "# keep adding numbers until user enters a 0\n",
    "\n",
    "total = 0\n",
    "\n",
    "while True: # infinite loop, so we must have a 'break' somewhere in the loop\n",
    "    num = int(input('Enter a number: '))\n",
    "    total += num\n",
    "    if num == 0:\n",
    "        break\n",
    "\n",
    "print(total)"
   ]
  },
  {
   "cell_type": "markdown",
   "metadata": {
    "slideshow": {
     "slide_type": "subslide"
    }
   },
   "source": [
    "## Middle-Test Loops\n",
    "* like a post-test loop, we want a loop where the test is not performed at the top\n",
    "* in this case the test is performed in the middle\n",
    "* no language has a middle-test loop construct\n",
    "* we can perform a middle-test loop in Python as follows:\n",
    "\n",
    " <pre>\n",
    "      <b>\n",
    "      while True:\n",
    "          statement(s)\n",
    "          if condition is false:\n",
    "              break\n",
    "          statement(s)\n",
    "      </b>\n",
    "   </pre>"
   ]
  },
  {
   "cell_type": "code",
   "execution_count": 25,
   "metadata": {},
   "outputs": [
    {
     "name": "stdout",
     "output_type": "stream",
     "text": [
      "Enter the next number (leave blank to end): 3\n",
      "Enter the next number (leave blank to end): 4\n",
      "Enter the next number (leave blank to end): 5\n",
      "Enter the next number (leave blank to end): 7\n",
      "Enter the next number (leave blank to end): \n",
      "The total of the numbers you entered is 19\n"
     ]
    }
   ],
   "source": [
    "# sum up the numbers until user hits return\n",
    "\n",
    "total = 0\n",
    "\n",
    "while True: \n",
    "    num = input(\"Enter the next number (leave blank to end): \")\n",
    "    if num == '':\n",
    "        break\n",
    "    total += int(num)\n",
    "    \n",
    "print(\"The total of the numbers you entered is\", total)"
   ]
  },
  {
   "cell_type": "markdown",
   "metadata": {
    "slideshow": {
     "slide_type": "subslide"
    }
   },
   "source": [
    "## Nested Loops\n",
    "* it is possible–and quite common–to have a loop inside a loop\n",
    "* in these cases, the inner loop(s) must complete before the outer loop continues"
   ]
  },
  {
   "cell_type": "code",
   "execution_count": 35,
   "metadata": {},
   "outputs": [
    {
     "name": "stdout",
     "output_type": "stream",
     "text": [
      "1 2 3 4 5 6 7 8 9 10 \n",
      "2 4 6 8 10 12 14 16 18 20 \n",
      "3 6 9 12 15 18 21 24 27 30 \n",
      "4 8 12 16 20 24 28 32 36 40 \n",
      "5 10 15 20 25 30 35 40 45 50 \n",
      "6 12 18 24 30 36 42 48 54 60 \n",
      "7 14 21 28 35 42 49 56 63 70 \n",
      "8 16 24 32 40 48 56 64 72 80 \n",
      "9 18 27 36 45 54 63 72 81 90 \n",
      "10 20 30 40 50 60 70 80 90 100 \n"
     ]
    }
   ],
   "source": [
    "for first in range(1, 11):\n",
    "    # for each iteration of the outer loop, the inner loop\n",
    "    # will run to completion\n",
    "    for second in range(1, 11):\n",
    "        print(first * second, end=' ')\n",
    "    print()"
   ]
  },
  {
   "cell_type": "markdown",
   "metadata": {},
   "source": [
    "## Program: Finding Prime Numbers\n",
    "* write a program to print out the prime numbers between 10 and 30\n",
    "* a number is prime if it's only divisible by 1 and itself\n",
    "* algorithm\n",
    "  * for each number 10 to 30\n",
    "    * try to divide in all of the numbers up to (but not including) the current number\n",
    "    * if any lower number divides in evenly, the number is not prime\n",
    "    * if NONE of the lower numbers divide in evenly, the number IS prime\n",
    "* later, if there's time, we'll look at another way to find prime numbers that was discovered by Eratosthenes"
   ]
  },
  {
   "cell_type": "markdown",
   "metadata": {
    "slideshow": {
     "slide_type": "slide"
    }
   },
   "source": [
    "# Complex Datatypes in Python"
   ]
  },
  {
   "cell_type": "markdown",
   "metadata": {
    "slideshow": {
     "slide_type": "subslide"
    }
   },
   "source": [
    "## Lists\n",
    "* a list is an ordered set of values\n",
    "* the items which make up a list are called its _elements_\n",
    "* lists are similar to strings, which are _ordered sets of characters_\n",
    "  * except that the elements of a list can have any type\n",
    "* lists and strings—and other things that behave like ordered sets—are called sequences"
   ]
  },
  {
   "cell_type": "code",
   "execution_count": 36,
   "metadata": {},
   "outputs": [
    {
     "name": "stdout",
     "output_type": "stream",
     "text": [
      "['banana', 'apple', 'pear', 'mango', 'cherry', 'blueberry']\n",
      "['Dave', 19, 34.5]\n",
      "[]\n"
     ]
    }
   ],
   "source": [
    "list_of_fruits = ['banana', 'apple', 'pear', 'mango',\n",
    "                  'cherry', 'blueberry']\n",
    "funnylist = ['Dave', 19, 34.5]\n",
    "empty_list = []\n",
    "# sep is an optional argument or parameter to the print() function which dictates\n",
    "# the separator character that should be printed between items\n",
    "print(list_of_fruits, funnylist, empty_list, sep='\\n')"
   ]
  },
  {
   "cell_type": "markdown",
   "metadata": {},
   "source": [
    "* lists may contain duplicate elements\n",
    "* lists are usually homogeneous, but they need not be\n",
    "* other languages have a datatype called an _array_ which is similar to a list, but one main difference is that an array can only contain items of one type–i.e., an array of integers, and array of floats, etc."
   ]
  },
  {
   "cell_type": "markdown",
   "metadata": {
    "slideshow": {
     "slide_type": "subslide"
    }
   },
   "source": [
    "## Lab: Lists\n",
    "* create two lists which are different\n",
    "* compare them for equality\n",
    "* create a third list which has the same elements as one of the other lists\n",
    "* verify that Python says they are the same"
   ]
  },
  {
   "cell_type": "markdown",
   "metadata": {
    "slideshow": {
     "slide_type": "subslide"
    }
   },
   "source": [
    "## Accessing Elements of a List\n",
    "* the syntax for accessing the elements of a list is the same as the syntax for accessing the characters of a string—the bracket operator–__`[]`__\n",
    "* the expression inside the brackets specifies the index\n",
    "* the indices start at 0, because computer scientists start counting at 0\n",
    "* you can use negative indices to refer to the elements from the end backwards"
   ]
  },
  {
   "cell_type": "code",
   "execution_count": 37,
   "metadata": {},
   "outputs": [
    {
     "name": "stdout",
     "output_type": "stream",
     "text": [
      "banana\n",
      "['Dave', 'not Dave', 34.5]\n",
      "['banana', 'apple', 'pear', 'mango', 'cherry', 'raspberry']\n"
     ]
    }
   ],
   "source": [
    "print(list_of_fruits[0])\n",
    "funnylist[1] = 'not Dave'\n",
    "print(funnylist)\n",
    "list_of_fruits[-1] = 'raspberry'\n",
    "print(list_of_fruits)"
   ]
  },
  {
   "cell_type": "markdown",
   "metadata": {
    "slideshow": {
     "slide_type": "subslide"
    }
   },
   "source": [
    "## Iterating Through a List\n",
    "* a list is a _container_, so we can use Python's natural iteration to cycle through the list\n",
    "* syntax\n",
    "\n",
    "<pre><b>\n",
    "    for item in list:\n",
    "        do something with item             (e.g., print)\n",
    "</b></pre>"
   ]
  },
  {
   "cell_type": "code",
   "execution_count": 38,
   "metadata": {
    "slideshow": {
     "slide_type": "-"
    }
   },
   "outputs": [
    {
     "name": "stdout",
     "output_type": "stream",
     "text": [
      "banana\n",
      "apple\n",
      "pear\n",
      "mango\n",
      "cherry\n",
      "raspberry\n"
     ]
    }
   ],
   "source": [
    "for fruit in list_of_fruits:\n",
    "    print(fruit)"
   ]
  },
  {
   "cell_type": "markdown",
   "metadata": {
    "slideshow": {
     "slide_type": "subslide"
    }
   },
   "source": [
    "## Slicing\n",
    "* Python has a very powerful feature called _slicing_ which allows you to specify a _slice_ (or subset) of a list (or a string as it turns out), rather than just a single element\n",
    "* slice syntax: __`container[start:stop:step]`__\n",
    "  * __`start`__ = the index at which to start\n",
    "  * __`stop`__ = the index at which to stop (+1 or -1 depending on which direction)\n",
    "  * __`step`__ = how many indices to move forward (or backward)\n",
    "  * __`start`__, __`stop`__, and __`step`__ are _optional_!"
   ]
  },
  {
   "cell_type": "code",
   "execution_count": 40,
   "metadata": {},
   "outputs": [
    {
     "data": {
      "text/plain": [
       "'Benjamin Franklin'"
      ]
     },
     "execution_count": 40,
     "metadata": {},
     "output_type": "execute_result"
    }
   ],
   "source": [
    "string = 'Frank Benedict eats jam in the morning'\n",
    "string[6:9] + string[20:23] + string[24:27] + string[:5] + 'lin'"
   ]
  },
  {
   "cell_type": "code",
   "execution_count": 41,
   "metadata": {},
   "outputs": [
    {
     "name": "stdout",
     "output_type": "stream",
     "text": [
      "13th letter of the alphabet is m\n",
      "Every other letter in the 1st half of the alphabet: acegikm\n",
      "Every other letter in the 2nd half of the alphabet: nprtvxz\n",
      "The alphabet backwards is zyxwvutsrqponmlkjihgfedcba\n"
     ]
    }
   ],
   "source": [
    "alphabet = 'abcdefghijklmnopqrstuvwxyz'\n",
    "print('13th letter of the alphabet is', alphabet[12])\n",
    "print('Every other letter in the 1st half of the alphabet:',\n",
    "      alphabet[:13:2])\n",
    "print('Every other letter in the 2nd half of the alphabet:',\n",
    "      alphabet[13::2])\n",
    "print('The alphabet backwards is', alphabet[::-1])"
   ]
  },
  {
   "cell_type": "code",
   "execution_count": 43,
   "metadata": {},
   "outputs": [
    {
     "name": "stdout",
     "output_type": "stream",
     "text": [
      "Enter a string: k\n",
      "The last 3 characters of the string are: k\n"
     ]
    }
   ],
   "source": [
    "string = input('Enter a string: ')\n",
    "print('The last 3 characters of the string are:', string[-3:])"
   ]
  },
  {
   "cell_type": "code",
   "execution_count": 44,
   "metadata": {
    "slideshow": {
     "slide_type": "-"
    }
   },
   "outputs": [
    {
     "name": "stdout",
     "output_type": "stream",
     "text": [
      "['banana', 'apple', 'pear', 'mango', 'cherry', 'raspberry']\n",
      "['raspberry', 'cherry', 'mango', 'pear', 'apple', 'banana']\n",
      "['mango', 'cherry', 'raspberry']\n",
      "['banana', 'apple', 'pear']\n",
      "The middle 3 fruits: ['pear', 'mango', 'cherry']\n",
      "Every other fruit: ['banana', 'pear', 'cherry']\n"
     ]
    }
   ],
   "source": [
    "# Works the same with lists...\n",
    "print(list_of_fruits)\n",
    "print(list_of_fruits[::-1])\n",
    "print(list_of_fruits[3:])\n",
    "print(list_of_fruits[:3])\n",
    "print('The middle 3 fruits:', list_of_fruits[2:5])\n",
    "print('Every other fruit:', list_of_fruits[::2])"
   ]
  },
  {
   "cell_type": "markdown",
   "metadata": {},
   "source": [
    "## Lab: Slicing\n",
    "1. print the letters of a string with a '+' between each pair of letters, but do not print a '+' after the final letter, i.e., 'h + e + l + l + o'  \n",
    "  * to do this, I want you to iterate through a _slice_ of the string which does not contain the last character, and then print the last character by itself\n",
    "2. create a list and use slicing to print the second half of the list, followed by the first half of the list\n",
    "  * once you've done this, do it again such that it does not print the middle item\n",
    "\n",
    "<pre><b>\n",
    "          [ 'one', 'two', 'three', 'four' ] => three four one two\n",
    "          [ 1, 2, 3, 4, 5 ] => 4 5 1 2\n",
    "</b></pre>"
   ]
  },
  {
   "cell_type": "markdown",
   "metadata": {
    "slideshow": {
     "slide_type": "subslide"
    }
   },
   "source": [
    "## Adding to a List...\n",
    "* the __`append()`__ function will add an item to the end of the list\n",
    "* the __`insert()`__ function will add an item at a particular offset, moving the remaining item down in the process\n",
    "* the __`extend()`__ function (also invoked via the __`+=`__ operator) will add a list to a list, one element at a time\n",
    "* NOTE: these functions (technically called _methods_) are a part of the list itself, which means that they are called by writing __`listname.append(item)`__, __`listname.insert(index, item)`__, and __`listname.extend(otherlist)`__"
   ]
  },
  {
   "cell_type": "code",
   "execution_count": 45,
   "metadata": {},
   "outputs": [
    {
     "name": "stdout",
     "output_type": "stream",
     "text": [
      "['banana', 'apple', 'pear', 'mango', 'cherry', 'raspberry']\n",
      "['banana', 'apple', 'pear', 'mango', 'cherry', 'raspberry', 'lemon']\n"
     ]
    }
   ],
   "source": [
    "print(list_of_fruits)\n",
    "# NOT append(list_of_fruits, 'lemon')\n",
    "list_of_fruits.append('lemon')\n",
    "print(list_of_fruits)"
   ]
  },
  {
   "cell_type": "code",
   "execution_count": 46,
   "metadata": {},
   "outputs": [
    {
     "name": "stdout",
     "output_type": "stream",
     "text": [
      "['banana', 'apple', 'pear', 'mango', 'tomato', 'cherry', 'raspberry', 'lemon']\n"
     ]
    }
   ],
   "source": [
    "list_of_fruits.insert(4, 'tomato')\n",
    "print(list_of_fruits)"
   ]
  },
  {
   "cell_type": "code",
   "execution_count": null,
   "metadata": {},
   "outputs": [],
   "source": [
    "more_fruits = ['lime', 'watermelon']\n",
    "list_of_fruits.extend(more_fruits) # list_of_fruits += more_fruits\n",
    "print(list_of_fruits)"
   ]
  },
  {
   "cell_type": "markdown",
   "metadata": {},
   "source": [
    "## Lab: Lists\n",
    "* create an empty list\n",
    "* write Python code to repeatedly ask the user for a word until the word is 'quit'\n",
    "* add each word to the list\n",
    "* after the user types 'quit' print every other word (first, third, fifth, etc.)\n",
    "* then print every other word (second, fourth, sixth, etc.)\n"
   ]
  },
  {
   "cell_type": "markdown",
   "metadata": {
    "slideshow": {
     "slide_type": "subslide"
    }
   },
   "source": [
    "## Creating a List with __`split()`__\n",
    "* the __`split()`__ function splits a string into a list\n",
    "* by default, __`split()`__ will split up a string using a space as the separator\n",
    "* ...but you can specify any separator you want"
   ]
  },
  {
   "cell_type": "code",
   "execution_count": 47,
   "metadata": {},
   "outputs": [
    {
     "name": "stdout",
     "output_type": "stream",
     "text": [
      "Enter a string and I will make a list out of it: apple pear lemon lime\n"
     ]
    },
    {
     "data": {
      "text/plain": [
       "['apple', 'pear', 'lemon', 'lime']"
      ]
     },
     "execution_count": 47,
     "metadata": {},
     "output_type": "execute_result"
    }
   ],
   "source": [
    "string = input('Enter a string and I will make a list out of it: ')\n",
    "mylist = string.split()\n",
    "mylist"
   ]
  },
  {
   "cell_type": "code",
   "execution_count": 51,
   "metadata": {},
   "outputs": [
    {
     "data": {
      "text/plain": [
       "['eggs', 'milk', 'butter', 'cheese']"
      ]
     },
     "execution_count": 51,
     "metadata": {},
     "output_type": "execute_result"
    }
   ],
   "source": [
    "comma_separated = 'eggs, milk, butter, cheese'\n",
    "shopping_list = comma_separated.split(', ')\n",
    "shopping_list"
   ]
  },
  {
   "cell_type": "markdown",
   "metadata": {
    "slideshow": {
     "slide_type": "subslide"
    }
   },
   "source": [
    "## Combining a List into a String with __`join()`__\n",
    "* __`join()`__ is used to take the elements of a list (or any sequence) and concatenate them into a single string\n",
    "* the syntax looks odd because __`join()`__ is a _string_ function–__not a list function__"
   ]
  },
  {
   "cell_type": "code",
   "execution_count": 56,
   "metadata": {},
   "outputs": [
    {
     "data": {
      "text/plain": [
       "'eggs, milk, butter, cheese'"
      ]
     },
     "execution_count": 56,
     "metadata": {},
     "output_type": "execute_result"
    }
   ],
   "source": [
    "', '.join(shopping_list)\n",
    "# want to write shopping_list.join(', ')"
   ]
  },
  {
   "cell_type": "code",
   "execution_count": 57,
   "metadata": {},
   "outputs": [
    {
     "name": "stdout",
     "output_type": "stream",
     "text": [
      "['s', 'a', 'l', 'e', 's', 'f', 'o', 'r', 'c', 'e']\n",
      "salesforce\n"
     ]
    }
   ],
   "source": [
    "list_of_letters = list('salesforce')\n",
    "print(list_of_letters)\n",
    "print(''.join(list_of_letters))"
   ]
  },
  {
   "cell_type": "code",
   "execution_count": 60,
   "metadata": {},
   "outputs": [
    {
     "data": {
      "text/plain": [
       "'h+e+l+l+o'"
      ]
     },
     "execution_count": 60,
     "metadata": {},
     "output_type": "execute_result"
    }
   ],
   "source": [
    "'+'.join(list('hello'))"
   ]
  },
  {
   "cell_type": "markdown",
   "metadata": {
    "slideshow": {
     "slide_type": "subslide"
    }
   },
   "source": [
    "## Program: Jumble (Word Scrambling)\n",
    "* write a program which plays the jumble word game, i.e., it will present you with a scrambled word and you have to come up with the correctly spelled word\n",
    "  * you can use the __`random`__ module for this\n",
    "  * __`random.choice(container)`__ will return a random item from the container\n",
    "  * __`random.shuffle(container)`__ will shuffle a container so the items are scrambled\n",
    "  * you can't shuffle a string, so you'll need to put the letters into a list using the __`list()`__ function, then shuffle the list, then put the letters back into a string using __`join()`__"
   ]
  },
  {
   "cell_type": "markdown",
   "metadata": {
    "slideshow": {
     "slide_type": "subslide"
    }
   },
   "source": [
    "## Removing Items from a List\n",
    "* __`remove()`__ will remove an item by value\n",
    "* __`pop()`__ will remove an item by index (and return the item)\n",
    "* as is the case with the add functions, we call them as __`listname.remove(item)`__ and __`listname.pop(index)`__"
   ]
  },
  {
   "cell_type": "code",
   "execution_count": 61,
   "metadata": {},
   "outputs": [
    {
     "name": "stdout",
     "output_type": "stream",
     "text": [
      "mango\n"
     ]
    },
    {
     "data": {
      "text/plain": [
       "['banana', 'apple', 'lemon', 'pear', 'fig', 'cherry', 'lemon']"
      ]
     },
     "execution_count": 61,
     "metadata": {},
     "output_type": "execute_result"
    }
   ],
   "source": [
    "list_of_fruits = ['banana', 'apple', 'lemon', 'pear', 'fig',\n",
    "                  'mango','cherry', 'lemon']\n",
    "print(list_of_fruits.pop(-3))\n",
    "list_of_fruits"
   ]
  },
  {
   "cell_type": "code",
   "execution_count": 62,
   "metadata": {},
   "outputs": [
    {
     "name": "stdout",
     "output_type": "stream",
     "text": [
      "2\n",
      "['banana', 'apple', 'pear', 'fig', 'cherry']\n",
      "popping cherry\n",
      "['banana', 'apple', 'pear', 'fig']\n",
      "popping fig\n",
      "['banana', 'apple', 'pear']\n",
      "popping pear\n",
      "['banana', 'apple']\n",
      "popping apple\n",
      "['banana']\n",
      "popping banana\n",
      "[]\n"
     ]
    }
   ],
   "source": [
    "# Given what we know so far, remove ALL lemons from the list\n",
    "print(list_of_fruits.count('lemon'))\n",
    "\n",
    "while 'lemon' in list_of_fruits:\n",
    "    list_of_fruits.remove('lemon')\n",
    "print(list_of_fruits)\n",
    "\n",
    "# Take the remaining items and pop each item off until empty\n",
    "while len(list_of_fruits) > 0:\n",
    "    print('popping', list_of_fruits.pop())\n",
    "    print(list_of_fruits)"
   ]
  },
  {
   "cell_type": "markdown",
   "metadata": {
    "slideshow": {
     "slide_type": "subslide"
    }
   },
   "source": [
    "## Sorting a List\n",
    "* lists have a __`sort()`__ function\n",
    "* sorting is performed alphabetically or numerically by default\n",
    "* you can choose to sort in reverse (descending) order"
   ]
  },
  {
   "cell_type": "code",
   "execution_count": 63,
   "metadata": {},
   "outputs": [
    {
     "name": "stdout",
     "output_type": "stream",
     "text": [
      "['banana', 'apple', 'lemon', 'pear', 'fig', 'mango', 'lemon']\n",
      "['apple', 'banana', 'fig', 'lemon', 'lemon', 'mango', 'pear']\n",
      "['pear', 'mango', 'lemon', 'lemon', 'fig', 'banana', 'apple']\n"
     ]
    }
   ],
   "source": [
    "list_of_fruits = ['banana', 'apple', 'lemon', 'pear', 'fig', \n",
    "                  'mango', 'lemon']\n",
    "print(list_of_fruits)\n",
    "list_of_fruits.sort()\n",
    "print(list_of_fruits)\n",
    "list_of_fruits.sort(reverse=True)\n",
    "print(list_of_fruits)"
   ]
  },
  {
   "cell_type": "markdown",
   "metadata": {
    "slideshow": {
     "slide_type": "subslide"
    }
   },
   "source": [
    "## Lab: List Management/Sorting\n",
    "* write a program to read in words\n",
    "* if the word begins with a vowel, put it in \"vowel\" list, otherwise put it in the \"consonant\" list\n",
    "* when the user types \"quit\", stop and print out the sorted list of words that begin with vowels, and the sorted list of words that begin with consonants"
   ]
  },
  {
   "cell_type": "markdown",
   "metadata": {
    "slideshow": {
     "slide_type": "subslide"
    }
   },
   "source": [
    "## Dictionaries\n",
    "* a Python _dictionary_ is an unordered collection of key-value pairs\n",
    "* instead of using integers as indices, dictionaries use a key, which is often a string\n",
    "* a dictionary maps a key to a value–give it the key as an index, and it will return the value\n",
    "* indeed they are called _maps_ in some languages"
   ]
  },
  {
   "cell_type": "code",
   "execution_count": 68,
   "metadata": {},
   "outputs": [
    {
     "name": "stdout",
     "output_type": "stream",
     "text": [
      "{'tall': 12, 'grande': 16}\n"
     ]
    },
    {
     "data": {
      "text/plain": [
       "dict"
      ]
     },
     "execution_count": 68,
     "metadata": {},
     "output_type": "execute_result"
    }
   ],
   "source": [
    "# creating a dictionary and initializing it\n",
    "cups = { 'tall': 12, 'grande': 16 }\n",
    "print(cups)\n",
    "type(cups)"
   ]
  },
  {
   "cell_type": "code",
   "execution_count": 65,
   "metadata": {},
   "outputs": [
    {
     "name": "stdout",
     "output_type": "stream",
     "text": [
      "A tall cup contains 12 ounces\n"
     ]
    }
   ],
   "source": [
    "print('A tall cup contains', cups['tall'], 'ounces')"
   ]
  },
  {
   "cell_type": "code",
   "execution_count": 66,
   "metadata": {},
   "outputs": [
    {
     "ename": "KeyError",
     "evalue": "0",
     "output_type": "error",
     "traceback": [
      "\u001b[0;31m---------------------------------------------------------------------------\u001b[0m",
      "\u001b[0;31mKeyError\u001b[0m                                  Traceback (most recent call last)",
      "\u001b[0;32m<ipython-input-66-960072945a43>\u001b[0m in \u001b[0;36m<module>\u001b[0;34m()\u001b[0m\n\u001b[0;32m----> 1\u001b[0;31m \u001b[0mcups\u001b[0m\u001b[0;34m[\u001b[0m\u001b[0;36m0\u001b[0m\u001b[0;34m]\u001b[0m\u001b[0;34m\u001b[0m\u001b[0m\n\u001b[0m",
      "\u001b[0;31mKeyError\u001b[0m: 0"
     ]
    }
   ],
   "source": [
    "cups[0]"
   ]
  },
  {
   "cell_type": "code",
   "execution_count": 70,
   "metadata": {},
   "outputs": [
    {
     "name": "stdout",
     "output_type": "stream",
     "text": [
      "tall 12\n",
      "grande 16\n"
     ]
    }
   ],
   "source": [
    "if 'grande' in cups: # only looks at keys\n",
    "    print(cups['grande'])\n",
    "for thing in cups:\n",
    "    print(thing, cups[thing])"
   ]
  },
  {
   "cell_type": "code",
   "execution_count": 75,
   "metadata": {
    "slideshow": {
     "slide_type": "subslide"
    }
   },
   "outputs": [
    {
     "name": "stdout",
     "output_type": "stream",
     "text": [
      "hola uno café por favor \n",
      "{'hello': 'hola', 'one': 'uno', 'please': 'por favor', 'coffee': 'café', 'corn': 'maize'}\n"
     ]
    }
   ],
   "source": [
    "# How about a dictionary to translate English into Spanish\n",
    "english_to_spanish = { 'hello': 'hola', 'one': 'uno', \n",
    "        'please': 'por favor', 'coffee': 'café' }\n",
    "for word in \"hello one coffee please\".split():\n",
    "    print(english_to_spanish[word], end=' ')\n",
    "print()\n",
    "other = { 'corn': 'maize' }\n",
    "english_to_spanish = { **english_to_spanish, **other}\n",
    "# print(english_to_spanish)\n",
    "# english_to_spanish['table'] = 'mesa'\n",
    "# print(english_to_spanish)\n",
    "# english_to_spanish['flour'] = 'arina'\n",
    "print(english_to_spanish)"
   ]
  },
  {
   "cell_type": "markdown",
   "metadata": {},
   "source": [
    "## Lab: Roman Numerals\n",
    "* write a program that converts Roman numerals to Arabic numerals\n",
    "* use a dictionary where the keys are Roman numerals and the values are Arabic numerals\n",
    "* __`M = 1000, D = 500, C = 100, L = 50, X = 10, V = 5, I = 1`__\n",
    "* for example, __`MDCLXVI`__ would be __`1000 + 500 + 100 + 50 + 10 + 5 + 1 = 1666`__\n",
    "* once you get that working, think about this additional wrinkle:\n",
    "  * if a smaller value precedes a larger value, then the correct thing to do is to subtract the smaller value from the larger value\n",
    "  * e.g., __`IX = 10 - 1 = 9`__\n",
    "  * e.g., __`MCM = 1000 + (1000 - 100) = 1900`__"
   ]
  },
  {
   "cell_type": "markdown",
   "metadata": {
    "slideshow": {
     "slide_type": "subslide"
    }
   },
   "source": [
    "## Lab: Word Counting\n",
    "* write a program to read lines of text entered by the user\n",
    "* split the lines into words, and count the occurrences of each word using a dictionary\n",
    "* if the word is in dictionary (use the __`in`__ operator), increment its count\n",
    "* if the word is NOT in the dictionary, set its count to 1\n",
    "* stop when the user enters 'quit', and print out the words and their counts"
   ]
  },
  {
   "cell_type": "code",
   "execution_count": null,
   "metadata": {},
   "outputs": [],
   "source": [
    "wordcount = {}\n",
    "# ... until 'quit'\n",
    "# read words from the user, one line at a time\n",
    "# split into individual words\n",
    "# for each word...\n",
    "#   if it's in the dict, increment count\n",
    "#   else put it in the dict with count of 1\n",
    "# print out words and counts"
   ]
  },
  {
   "cell_type": "markdown",
   "metadata": {
    "slideshow": {
     "slide_type": "subslide"
    }
   },
   "source": [
    "## Deleting from a __`dict`__\n",
    "* __`pop(key)`__ will remove the corresponding key/value pair from the __`dict`__\n",
    "* __`clear()`__ will remove ALL entries"
   ]
  },
  {
   "cell_type": "code",
   "execution_count": 76,
   "metadata": {},
   "outputs": [
    {
     "ename": "KeyError",
     "evalue": "'not there'",
     "output_type": "error",
     "traceback": [
      "\u001b[0;31m---------------------------------------------------------------------------\u001b[0m",
      "\u001b[0;31mKeyError\u001b[0m                                  Traceback (most recent call last)",
      "\u001b[0;32m<ipython-input-76-e7dc492384f1>\u001b[0m in \u001b[0;36m<module>\u001b[0;34m()\u001b[0m\n\u001b[0;32m----> 1\u001b[0;31m \u001b[0mcups\u001b[0m\u001b[0;34m.\u001b[0m\u001b[0mpop\u001b[0m\u001b[0;34m(\u001b[0m\u001b[0;34m'not there'\u001b[0m\u001b[0;34m)\u001b[0m\u001b[0;34m\u001b[0m\u001b[0m\n\u001b[0m",
      "\u001b[0;31mKeyError\u001b[0m: 'not there'"
     ]
    }
   ],
   "source": [
    "cups.pop('not there')"
   ]
  },
  {
   "cell_type": "code",
   "execution_count": 77,
   "metadata": {},
   "outputs": [
    {
     "data": {
      "text/plain": [
       "{'tall': 12}"
      ]
     },
     "execution_count": 77,
     "metadata": {},
     "output_type": "execute_result"
    }
   ],
   "source": [
    "if 'grande' in cups:\n",
    "    cups.pop('grande')\n",
    "cups"
   ]
  },
  {
   "cell_type": "code",
   "execution_count": 78,
   "metadata": {},
   "outputs": [
    {
     "data": {
      "text/plain": [
       "{}"
      ]
     },
     "execution_count": 78,
     "metadata": {},
     "output_type": "execute_result"
    }
   ],
   "source": [
    "cups.clear()\n",
    "cups"
   ]
  },
  {
   "cell_type": "markdown",
   "metadata": {
    "slideshow": {
     "slide_type": "slide"
    }
   },
   "source": [
    "# Defining Our Own Functions"
   ]
  },
  {
   "cell_type": "markdown",
   "metadata": {
    "slideshow": {
     "slide_type": "subslide"
    }
   },
   "source": [
    "## What is a Function (Redux)?\n",
    "* a _function_ is a named, self-contained snippet of code which performs a specific task\n",
    "* functions are sometimes called procedures, subprograms, or methods\n",
    "* functions can accept some data as input, and can return some data as output\n",
    "* the input, which is optional, is called _parameters_ or _arguments_\n",
    "* the output, which is also optional, is called the _return value_\n",
    "* we use the __`def`__ keyword to define a function\n",
    "* the body of the function is indented\n",
    "* syntax\n",
    "\n",
    "<pre>\n",
    "    <b>\n",
    "    def funcname(arg1, arg2, ...):\n",
    "        statement(s)\n",
    "    </b>\n",
    "</pre>"
   ]
  },
  {
   "cell_type": "code",
   "execution_count": null,
   "metadata": {},
   "outputs": [],
   "source": [
    "# Here is a function which takes no input (parameters) and has\n",
    "# no return value. The things that are printed by the function\n",
    "# are not considered a return value.\n",
    "\n",
    "def print_header():\n",
    "    print('-' * 63)\n",
    "    print('   RESTRICTED ACCESS' * 3)\n",
    "    print('-' * 63)\n",
    "    \n",
    "print_header()\n",
    "print('you should not be reading this')\n",
    "print_header()"
   ]
  },
  {
   "cell_type": "code",
   "execution_count": null,
   "metadata": {},
   "outputs": [],
   "source": [
    "# This function takes a single argument (or parameter),\n",
    "# but it does not return anything.\n",
    "def pretty_print(message):\n",
    "    print_header()\n",
    "    print(message)\n",
    "    print_header()"
   ]
  },
  {
   "cell_type": "code",
   "execution_count": null,
   "metadata": {},
   "outputs": [],
   "source": [
    "pretty_print('          DO NOT LOOK AT THIS SCREEN!')"
   ]
  },
  {
   "cell_type": "code",
   "execution_count": null,
   "metadata": {},
   "outputs": [],
   "source": [
    "# This function takes two arguments\n",
    "def print_sum(num1, num2):\n",
    "    print('the sum of', num1, 'and', num2, 'is', num1 + num2)\n",
    "\n",
    "print_sum(32, 48)"
   ]
  },
  {
   "cell_type": "markdown",
   "metadata": {
    "slideshow": {
     "slide_type": "subslide"
    }
   },
   "source": [
    "## Lab: Mastermind/Cows and Bulls Game\n",
    "* your program should generate a 4-digit \"secret\" number, where the digits are all different and do not start with zero\n",
    "* the player tries to guess the number or can enter \"quit\" to end the game\n",
    "* the program should output the number of matches as \"bulls\" or \"cows\"\n",
    " * if the matching digits are in the correct positions, they are \"bulls\", if in different positions, they are \"cows\""
   ]
  },
  {
   "cell_type": "markdown",
   "metadata": {
    "slideshow": {
     "slide_type": "subslide"
    }
   },
   "source": [
    "## Scope\n",
    "* the _scope_ of a variable is the part of the program in which the variable can be accessed\n",
    "* so far we have been creating variables in \"global scope\", which means they can be accessed anywhere in the program, i.e., _globally_\n",
    "* when we create a variable inside a function it can be accessed from that point until the end of the function–once the function exits, the variable is no longer accessible"
   ]
  },
  {
   "cell_type": "code",
   "execution_count": null,
   "metadata": {},
   "outputs": [],
   "source": [
    "def function_scope():\n",
    "    print('in function function_scope()')\n",
    "    print('creating the variable \"funcvar\"')\n",
    "    funcvar = 'this variable was created inside the function'\n",
    "    print('funcvar =', funcvar)\n",
    "    print('leaving function function_scope()')\n",
    "    \n",
    "function_scope()\n",
    "print(funcvar)\n"
   ]
  },
  {
   "cell_type": "markdown",
   "metadata": {
    "slideshow": {
     "slide_type": "subslide"
    }
   },
   "source": [
    "## The __`return`__ Statement\n",
    "* if a function wants to return a value to its caller, it must use the __`return`__ statement\n",
    "* whatever value you put in the __`return`__ statement is returned "
   ]
  },
  {
   "cell_type": "code",
   "execution_count": null,
   "metadata": {
    "scrolled": true
   },
   "outputs": [],
   "source": [
    "def adder(x, y):\n",
    "    return x + y\n",
    "\n",
    "adder(21, 34)"
   ]
  },
  {
   "cell_type": "code",
   "execution_count": null,
   "metadata": {},
   "outputs": [],
   "source": [
    "var = adder(-3, 1.0) # adder() returns the sum of its two arguments\n",
    "print(var)"
   ]
  },
  {
   "cell_type": "markdown",
   "metadata": {
    "slideshow": {
     "slide_type": "subslide"
    }
   },
   "source": [
    "## Boolean Functions\n",
    "* functions can return any datatype, but let's consider the class of functions that return a Boolean value, i.e., __`True`__ or __`False`__ \n",
    "* these functions can be used to make our code more readable, especially if we name them __`is_...()`__"
   ]
  },
  {
   "cell_type": "code",
   "execution_count": null,
   "metadata": {},
   "outputs": [],
   "source": [
    "def is_even(number):\n",
    "    return number % 2 == 0\n",
    "\n",
    "num = int(input('Enter a number: '))\n",
    "if is_even(num):\n",
    "    print(num, 'is an even number')\n",
    "else:\n",
    "    print(num, 'is an ODD number')"
   ]
  },
  {
   "cell_type": "markdown",
   "metadata": {
    "slideshow": {
     "slide_type": "subslide"
    }
   },
   "source": [
    "## Functions Can Call Other Functions\n",
    "* ideally, when we write code to solve a problem, we break the problem down into subproblems, and then break those down further into subproblems, etc.\n",
    "* when the problems are \"small enough,\" we write functions to solve them\n",
    "* a good rule of thumb is that if your explanation of what a function does contains the word _and_, then it needs to be broken down even further\n",
    "* better to have too many functions than too few\n",
    "<pre>\n",
    "    <b>\n",
    "    def task1(arg1, arg2, ...):\n",
    "        statement(s)\n",
    "        task2(...)\n",
    "        statement(s)\n",
    "        \n",
    "    def task2(arg1, arg2, ...):\n",
    "        statement(s)\n",
    "        task3(...)\n",
    "        statement(s)\n",
    "        \n",
    "     def task3(arg1, arg2, ...):\n",
    "        statement(s)\n",
    "        \n",
    "     # Now call the first function\n",
    "     task1(...)   \n",
    "    </b>\n",
    "</pre>\n",
    "* in order for one function to call another, the function being called has to have been seen by the interpreter or Python won't know what it is\n",
    "* but as written above, it's fine, because the Python intepreter sees all three functions before the call of __`task1()`__ occurs"
   ]
  },
  {
   "cell_type": "markdown",
   "metadata": {
    "slideshow": {
     "slide_type": "subslide"
    }
   },
   "source": [
    "## Lab: Functions\n",
    "* write __max3__, a function to find the maximum of three values (first create a function that finds the maximum of two values and have __max3__ call it)\n",
    "* write a function to sum all of the numbers in a list\n",
    "* write a function which accepts a list as its argument and returns a new list with all of the duplicates removed (e.g., __remove_dupes([3, 1, 2, 3, 1, 3, 3, 4, 1])__ would return [3, 1, 2, 4])\n",
    "* write a function to check whether its string argument is a pangram (i.e., it contains all of the letters of the alphabet)\n",
    "* write a Boolean function which accepts a string argument and indicates whether it is a palindrome (i.e., it reads the same backwards and forwards–e.g., \"radar\")\n",
    " * once you get that, try to make it work even if the string contains spaces, e.g., \"Ten animals I slam in a net\"\n",
    " * try to use slices if you didn't already"
   ]
  },
  {
   "cell_type": "markdown",
   "metadata": {
    "slideshow": {
     "slide_type": "slide"
    }
   },
   "source": [
    "\n",
    "# Modules"
   ]
  },
  {
   "cell_type": "markdown",
   "metadata": {
    "slideshow": {
     "slide_type": "subslide"
    }
   },
   "source": [
    "## What is a Module?\n",
    "* a module is file containing one or more related functions\n",
    "* we can _import_ the module into our program, giving us access to those functions\n",
    "* the __`string`__ module used to give us access to functions which manipulate strings, but  these functions have been built in to Python strings for a while\n",
    "  * the real value of the string module is the constants it defines\n",
    "* the __`math`__ module gives us access to math functions such as __`sqrt`__, __`sin`__, and __`factorial`__\n",
    "* the random module gives us access to functions that generate random numbers\n"
   ]
  },
  {
   "cell_type": "code",
   "execution_count": null,
   "metadata": {},
   "outputs": [],
   "source": [
    "import string\n",
    "print(string.digits)\n",
    "print(string.punctuation)\n",
    "print(string.ascii_uppercase)\n",
    "print(string.ascii_letters)"
   ]
  },
  {
   "cell_type": "code",
   "execution_count": null,
   "metadata": {},
   "outputs": [],
   "source": [
    "import math\n",
    "print(math.sqrt(2))\n",
    "print(math.sin(1.5708)) # 90 degrees in radians\n",
    "print(math.factorial(52))"
   ]
  },
  {
   "cell_type": "code",
   "execution_count": null,
   "metadata": {},
   "outputs": [],
   "source": [
    "import random\n",
    "# random.choice() is a really useful function which randomly chooses an item from a sequence\n",
    "print(random.choice(list_of_fruits))\n",
    "# random.randint(a, b) returns a random integer between a and b (inclusive)\n",
    "print(random.randint(1, 100))"
   ]
  },
  {
   "cell_type": "markdown",
   "metadata": {},
   "source": [
    "# Possible additional topics\n",
    "* dict iteration\n",
    "* string functions"
   ]
  }
 ],
 "metadata": {
  "celltoolbar": "Slideshow",
  "kernelspec": {
   "display_name": "Python 3",
   "language": "python",
   "name": "python3"
  },
  "language_info": {
   "codemirror_mode": {
    "name": "ipython",
    "version": 3
   },
   "file_extension": ".py",
   "mimetype": "text/x-python",
   "name": "python",
   "nbconvert_exporter": "python",
   "pygments_lexer": "ipython3",
   "version": "3.7.0"
  }
 },
 "nbformat": 4,
 "nbformat_minor": 1
}
